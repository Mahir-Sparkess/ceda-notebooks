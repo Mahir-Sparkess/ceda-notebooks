{
 "cells": [
  {
   "cell_type": "markdown",
   "metadata": {},
   "source": [
    "# Re-runnable virtual environment setup\n",
    "\n",
    "This notebook is a re-runnable set of instructions to set up a virtual environment and install a package `fixnc` into it."
   ]
  },
  {
   "cell_type": "markdown",
   "source": [
    "## Set up your configuration for the venv"
   ],
   "metadata": {
    "collapsed": false,
    "pycharm": {
     "name": "#%% md\n"
    }
   }
  },
  {
   "cell_type": "code",
   "execution_count": 32,
   "metadata": {},
   "outputs": [
    {
     "name": "stdout",
     "output_type": "stream",
     "text": [
      "[INFO] \"fixnc has been imported.\n",
      "<module 'fixnc' from '/home/users/astephen/nb-venvs/venv-notebook/lib/python3.7/site-packages/fixnc/__init__.py'>\n",
      "NOTE: You can now work with the package \"fixnc\" as usual...\n"
     ]
    }
   ],
   "source": [
    "# Import the required packages\n",
    "import os\n",
    "\n",
    "# Change current working directory to top of the repository: ~/ceda-notebooks/\n",
    "os.chdir('../..')\n",
    "\n",
    "# This script allows the ability to create, activate and install into virtual environments.\n",
    "# You can find the code used in ~/ceda-notebooks/scripts/utils/venv_utils.py\n",
    "from scripts.utils import venv_utils\n",
    "\n",
    "# Define the name of your venv you wish to create\n",
    "venv_name = 'venv-notebook'\n",
    "\n",
    "# You can also define the directory to create the venv,\n",
    "# default a nb-venvs folder in your $HOME directory: $HOME/nb-venvs/\n",
    "venvs_dir = ...\n",
    "\n",
    "# List all the packages you want to install into a variable:\n",
    "packages = [\n",
    "    \"fixnc\",\n",
    "]"
   ]
  },
  {
   "cell_type": "markdown",
   "metadata": {
    "pycharm": {
     "name": "#%% md\n"
    }
   },
   "source": [
    "## Step by step venv creation\n",
    "\n",
    "This section will just go through the steps in which venv creation process works using the script."
   ]
  },
  {
   "cell_type": "code",
   "execution_count": null,
   "outputs": [],
   "source": [
    "# Step 1. Create the venv\n",
    "# There is a `force_recreate` flag, default `False`.\n",
    "# If set to `True`, then it will remove the old venv and create a new venv.\n",
    "venv_utils.create_venv(venv_name=venv_name)\n",
    "\n",
    "# Step 2. Install packages into the venv\n",
    "venv_utils.install_packages(packages=packages, venv_name=venv_name)\n",
    "\n",
    "# Step 3. Activate the venv into your notebook.\n",
    "# If you had already created and venv and have installed packages. Skip steps 1 & 2,\n",
    "# and activate the venv directly to reuse already made venvs.\n",
    "venv_utils.activate_venv(venv_name=venv_name)"
   ],
   "metadata": {
    "collapsed": false,
    "pycharm": {
     "name": "#%%\n"
    }
   }
  },
  {
   "cell_type": "markdown",
   "source": [
    "## All in one method\n",
    "\n",
    "Create, activate and install packages in one method with ready to go configurations."
   ],
   "metadata": {
    "collapsed": false
   }
  },
  {
   "cell_type": "code",
   "execution_count": null,
   "outputs": [],
   "source": [
    "venv_utils.setup_venv(venv_name=venv_name, packages=packages)"
   ],
   "metadata": {
    "collapsed": false,
    "pycharm": {
     "name": "#%%\n"
    }
   }
  }
 ],
 "metadata": {
  "kernelspec": {
   "display_name": "Python 3 + Jaspy",
   "language": "python",
   "name": "jaspy"
  },
  "language_info": {
   "codemirror_mode": {
    "name": "ipython",
    "version": 3
   },
   "file_extension": ".py",
   "mimetype": "text/x-python",
   "name": "python",
   "nbconvert_exporter": "python",
   "pygments_lexer": "ipython3",
   "version": "3.7.1"
  }
 },
 "nbformat": 4,
 "nbformat_minor": 4
}