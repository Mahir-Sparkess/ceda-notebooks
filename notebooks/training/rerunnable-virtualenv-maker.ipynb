{
 "cells": [
  {
   "cell_type": "markdown",
   "metadata": {},
   "source": [
    "# Re-runnable virtual environment setup\n",
    "\n",
    "This notebook is a re-runnable set of instructions to set up a virtual environment and install a package `fixnc` into it."
   ]
  },
  {
   "cell_type": "code",
   "execution_count": 22,
   "metadata": {},
   "outputs": [],
   "source": [
    "# Define package name - to install\n",
    "PACKAGE = 'fixnc'"
   ]
  },
  {
   "cell_type": "code",
   "execution_count": 32,
   "metadata": {},
   "outputs": [
    {
     "name": "stdout",
     "output_type": "stream",
     "text": [
      "[INFO] \"fixnc has been imported.\n",
      "<module 'fixnc' from '/home/users/astephen/nb-venvs/venv-notebook/lib/python3.7/site-packages/fixnc/__init__.py'>\n",
      "NOTE: You can now work with the package \"fixnc\" as usual...\n"
     ]
    }
   ],
   "source": [
    "# Import the required packages\n",
    "import virtualenv\n",
    "import pip\n",
    "import os\n",
    "import pydoc\n",
    "\n",
    "# Define and create the base directory install virtual environments\n",
    "venvs_dir = os.path.join(os.path.expanduser(\"~\"), \"nb-venvs\")\n",
    "\n",
    "# Create base venvs directory if not already there\n",
    "if not os.path.isdir(venvs_dir):\n",
    "    os.makedirs(venvs_dir)\n",
    "\n",
    "# Define the venv directory\n",
    "venv_dir = os.path.join(venvs_dir, 'venv-notebook')\n",
    "\n",
    "if not os.path.isdir(venv_dir):\n",
    "    # Create the virtual environment\n",
    "    print(f'[INFO] Creating: virtual env at: {venv_dir}')\n",
    "    virtualenv.create_environment(venv_dir)\n",
    "    \n",
    "# Activate the venv\n",
    "activate_file = os.path.join(venv_dir, \"bin\", \"activate_this.py\")\n",
    "exec(open(activate_file).read(), dict(__file__=activate_file))\n",
    "\n",
    "# Try to import the package, if it fails, then try to pip install it,\n",
    "# and import again\n",
    "\n",
    "# NOTE: We use `__import__` instead of `import` so that PACKAGE can \n",
    "# be a string value, and can therefore be replaced at the top of the \n",
    "# Notebook with your package of choice.\n",
    "try:\n",
    "    __import__(PACKAGE)\n",
    "except Exception as exc:\n",
    "    # pip install a package using the venv as a prefix\n",
    "    print(f'[INFO] Pip installing \"{PACKAGE}\"')\n",
    "    pip.main([\"install\", \"--prefix\", venv_dir, PACKAGE])\n",
    "    __import__(PACKAGE)\n",
    "\n",
    "print(f'[INFO] \"{PACKAGE} has been imported.')\n",
    "print(pydoc.locate(PACKAGE))\n",
    "\n",
    "print(f'NOTE: You can now work with the package \"{PACKAGE}\" as usual...')"
   ]
  },
  {
   "cell_type": "code",
   "execution_count": null,
   "metadata": {},
   "outputs": [],
   "source": []
  }
 ],
 "metadata": {
  "kernelspec": {
   "display_name": "Python 3 + Jaspy",
   "language": "python",
   "name": "jaspy"
  },
  "language_info": {
   "codemirror_mode": {
    "name": "ipython",
    "version": 3
   },
   "file_extension": ".py",
   "mimetype": "text/x-python",
   "name": "python",
   "nbconvert_exporter": "python",
   "pygments_lexer": "ipython3",
   "version": "3.7.1"
  }
 },
 "nbformat": 4,
 "nbformat_minor": 4
}
