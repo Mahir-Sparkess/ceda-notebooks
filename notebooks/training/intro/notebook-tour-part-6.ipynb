{
 "cells": [
  {
   "cell_type": "markdown",
   "metadata": {},
   "source": [
    "# Introducing the JASMIN Notebook Service\n",
    "\n",
    "In this Notebook, we will discuss:\n",
    "\n",
    "1. What is a Notebook?\n",
    "2. Using Python in the browser \n",
    "3. Plotting in a Notebook\n",
    "4. Working with data in the CEDA Archive\n",
    "5. Accessing data in Group Workspaces\n",
    "6. Creating virtual environments to install additional software\n",
    "7. Sharing Notebooks"
   ]
  },
  {
   "cell_type": "markdown",
   "metadata": {},
   "source": [
    "## 6. Creating virtual environments to install software\n",
    "\n",
    "The JASMIN Notebook Service provides a _fixed_ Python3 software environment. This will be updated from time to time but may not be as dynamic as some users require.\n",
    "\n",
    "If you need to add extra software to the environment you can do so - using Python's `virtual environments`. Here's how you can do it..."
   ]
  },
  {
   "cell_type": "markdown",
   "metadata": {},
   "source": [
    "### Creating and using a Virtual Environment inside an existing Notebook\n",
    "\n",
    "This Notebook demonstrates how you can use the Python `virtualenv` and `pip` packages to work with a Virtual Environment (`venv`) _inside_ an existing Notebook.\n",
    "\n",
    "There are 3 steps:\n",
    " 1. Create a venv - only required once\n",
    " 2. Activate the venv - required any time you want to use the venv\n",
    " 3. Install extra packages - whenever you need to add a new package\n",
    " \n",
    "**NOTE: these instructions suggest putting all venvs that are used in Notebooks under a `~/nb-venvs/` directory. These venvs will _not_ work if you are logged directly into JASMIN via SSH.**"
   ]
  },
  {
   "cell_type": "markdown",
   "metadata": {
    "pycharm": {
     "name": "#%% md\n"
    }
   },
   "source": [
    "#### Step 1 - create a venv\n",
    "\n",
    "You only need to create a venv once. In this example an `nb-venvs` directory is created inside the `$HOME` directory, and the venv is created inside it."
   ]
  },
  {
   "cell_type": "code",
   "execution_count": 1,
   "metadata": {
    "pycharm": {
     "name": "#%%\n"
    }
   },
   "outputs": [],
   "source": [
    "# Import the required packages\n",
    "import os\n",
    "\n",
    "# Change current working directory to top of the repository: ~/ceda-notebooks/\n",
    "os.chdir('../../..')\n",
    "\n",
    "from scripts.utils import venv_utils\n",
    "\n",
    "# Define the name of the venv to install virtual environments\n",
    "venv_name = 'venv_notebook'"
   ]
  },
  {
   "cell_type": "markdown",
   "metadata": {
    "pycharm": {
     "name": "#%% md\n"
    }
   },
   "source": [
    "Since you only need to create the virtual environment once, the create method will check for it's existence"
   ]
  },
  {
   "cell_type": "code",
   "execution_count": 2,
   "metadata": {
    "pycharm": {
     "name": "#%%\n"
    }
   },
   "outputs": [
    {
     "name": "stdout",
     "output_type": "stream",
     "text": [
      "Making venv venv_notebook directory in /home/users/mr1333/nb-venvs\n"
     ]
    }
   ],
   "source": [
    "# Create the venv\n",
    "venv_utils.create_venv(venv_name=venv_name)"
   ]
  },
  {
   "cell_type": "markdown",
   "metadata": {
    "pycharm": {
     "name": "#%% md\n"
    }
   },
   "source": [
    "#### Step 2 - activate the venv\n",
    "\n",
    "Use the activate method to add the venv to your notebook and use packages installed in the venv."
   ]
  },
  {
   "cell_type": "code",
   "execution_count": 3,
   "metadata": {
    "pycharm": {
     "name": "#%%\n"
    }
   },
   "outputs": [
    {
     "name": "stdout",
     "output_type": "stream",
     "text": [
      "Activating virtualenv: venv_notebook\n"
     ]
    }
   ],
   "source": [
    "# Activate the venv\n",
    "venv_utils.activate_venv(venv_name=venv_name)"
   ]
  },
  {
   "cell_type": "markdown",
   "metadata": {
    "pycharm": {
     "name": "#%% md\n"
    }
   },
   "source": [
    "#### Step 3 - install a new package\n",
    "\n",
    "In this case, we install the `fixnc` package from the PyPI repository using the install package method"
   ]
  },
  {
   "cell_type": "code",
   "execution_count": 4,
   "metadata": {},
   "outputs": [
    {
     "name": "stdout",
     "output_type": "stream",
     "text": [
      "Failed to import \"fixnc\" as expected\n"
     ]
    }
   ],
   "source": [
    "# First let's assert that we cannot import `fixnc`\n",
    "try:\n",
    "    import fixnc\n",
    "except ModuleNotFoundError as err:\n",
    "    print('Failed to import \"fixnc\" as expected')"
   ]
  },
  {
   "cell_type": "code",
   "execution_count": 5,
   "metadata": {
    "pycharm": {
     "name": "#%%\n"
    }
   },
   "outputs": [
    {
     "name": "stdout",
     "output_type": "stream",
     "text": [
      "Installing package: fixnc\n"
     ]
    },
    {
     "name": "stderr",
     "output_type": "stream",
     "text": [
      "WARNING: pip is being invoked by an old script wrapper. This will fail in a future version of pip.\n",
      "Please see https://github.com/pypa/pip/issues/5599 for advice on fixing the underlying issue.\n",
      "To avoid this problem you can invoke Python with '-m pip' instead of running pip directly.\n"
     ]
    },
    {
     "name": "stdout",
     "output_type": "stream",
     "text": [
      "Collecting fixnc\n",
      "  Using cached fixnc-0.0.1-py3-none-any.whl\n",
      "Requirement already satisfied: netcdf4>=1.1.8 in /opt/jaspy/lib/python3.8/site-packages (from fixnc) (1.5.6)\n",
      "Collecting sh>=1.11\n",
      "  Using cached sh-1.14.2-py2.py3-none-any.whl (40 kB)\n",
      "Requirement already satisfied: cftime in /opt/jaspy/lib/python3.8/site-packages (from netcdf4>=1.1.8->fixnc) (1.5.1)\n",
      "Requirement already satisfied: numpy>=1.9 in /opt/jaspy/lib/python3.8/site-packages (from netcdf4>=1.1.8->fixnc) (1.21.3)\n",
      "Installing collected packages: sh, fixnc\n",
      "Successfully installed fixnc-0.0.1 sh-1.14.2\n"
     ]
    }
   ],
   "source": [
    "# Install the package\n",
    "venv_utils.install_package('fixnc', venv_name=venv_name)"
   ]
  },
  {
   "cell_type": "markdown",
   "metadata": {
    "pycharm": {
     "name": "#%% md\n"
    }
   },
   "source": [
    "If we wanted to install more than one package, the `install_packages` method is more convenient.\n",
    "Put the packages into a list and use the list in the method."
   ]
  },
  {
   "cell_type": "code",
   "execution_count": 6,
   "metadata": {},
   "outputs": [
    {
     "name": "stderr",
     "output_type": "stream",
     "text": [
      "WARNING: pip is being invoked by an old script wrapper. This will fail in a future version of pip.\n",
      "Please see https://github.com/pypa/pip/issues/5599 for advice on fixing the underlying issue.\n",
      "To avoid this problem you can invoke Python with '-m pip' instead of running pip directly.\n"
     ]
    },
    {
     "name": "stdout",
     "output_type": "stream",
     "text": [
      "Installing package: fixnc\n",
      "Collecting fixnc\n",
      "  Using cached fixnc-0.0.1-py3-none-any.whl\n",
      "Requirement already satisfied: netcdf4>=1.1.8 in /opt/jaspy/lib/python3.8/site-packages (from fixnc) (1.5.6)\n",
      "Collecting sh>=1.11\n",
      "  Using cached sh-1.14.2-py2.py3-none-any.whl (40 kB)\n",
      "Requirement already satisfied: cftime in /opt/jaspy/lib/python3.8/site-packages (from netcdf4>=1.1.8->fixnc) (1.5.1)\n",
      "Requirement already satisfied: numpy>=1.9 in /opt/jaspy/lib/python3.8/site-packages (from netcdf4>=1.1.8->fixnc) (1.21.3)\n",
      "Installing collected packages: sh, fixnc\n",
      "Successfully installed fixnc-0.0.1 sh-1.14.2\n"
     ]
    }
   ],
   "source": [
    "packages = [\"fixnc\"]\n",
    "venv_utils.install_packages(packages=packages, venv_name=venv_name)"
   ]
  },
  {
   "cell_type": "markdown",
   "metadata": {},
   "source": [
    "Demonstrate it works, by importing it and finding out where the module has been installed."
   ]
  },
  {
   "cell_type": "code",
   "execution_count": 7,
   "metadata": {
    "collapsed": false,
    "jupyter": {
     "outputs_hidden": false
    },
    "pycharm": {
     "name": "#%%\n"
    }
   },
   "outputs": [
    {
     "name": "stdout",
     "output_type": "stream",
     "text": [
      "/home/users/mr1333/nb-venvs/venv_notebook/lib/python3.8/site-packages/fixnc/__init__.py\n"
     ]
    }
   ],
   "source": [
    "import fixnc\n",
    "print(fixnc.__file__)\n"
   ]
  }
 ],
 "metadata": {
  "kernelspec": {
   "display_name": "Python 3 + Jaspy",
   "language": "python",
   "name": "jaspy"
  },
  "language_info": {
   "codemirror_mode": {
    "name": "ipython",
    "version": 3
   },
   "file_extension": ".py",
   "mimetype": "text/x-python",
   "name": "python",
   "nbconvert_exporter": "python",
   "pygments_lexer": "ipython3",
   "version": "3.8.12"
  }
 },
 "nbformat": 4,
 "nbformat_minor": 4
}
