{
 "cells": [
  {
   "cell_type": "markdown",
   "metadata": {},
   "source": [
    "# Introducing the JASMIN Notebook Service\n",
    "\n",
    "In this Notebook, we will discuss:\n",
    "\n",
    "1. What is a Notebook?\n",
    "2. Using Python in the browser \n",
    "3. Plotting in a Notebook\n",
    "4. Working with data in the CEDA Archive\n",
    "5. Accessing data in Group Workspaces\n",
    "6. Creating virtual environments to install additional software\n",
    "7. Sharing Notebooks"
   ]
  },
  {
   "cell_type": "markdown",
   "metadata": {},
   "source": [
    "## 6. Creating virtual environments to install software\n",
    "\n",
    "The JASMIN Notebook Service provides a _fixed_ Python3 software environment. This will be updated from time to time but may not be as dynamic as some users require.\n",
    "\n",
    "If you need to add extra software to the environment you can do so - using Python's `virtual environments`. Here's how you can do it..."
   ]
  },
  {
   "cell_type": "markdown",
   "metadata": {},
   "source": [
    "### Creating and using a Virtual Environment inside an existing Notebook\n",
    "\n",
    "This Notebook demonstrates how you can use the Python `virtualenv` and `pip` packages to work with a Virtual Environment (`venv`) _inside_ an existing Notebook.\n",
    "\n",
    "There are 3 steps:\n",
    " 1. Create a venv - only required once\n",
    " 2. Activate the venv - required any time you want to use the venv\n",
    " 3. Install extra packages - whenever you need to add a new package\n",
    " \n",
    "**NOTE: these instructions suggest putting all venvs that are used in Notebooks under a `~/nb-venvs/` directory. These venvs will _not_ work if you are logged directly into JASMIN via SSH.**"
   ]
  },
  {
   "cell_type": "markdown",
   "metadata": {
    "pycharm": {
     "name": "#%% md\n"
    }
   },
   "source": [
    "#### Step 1 - create a venv\n",
    "\n",
    "You only need to create a venv once. In this example an `nb-venvs` directory is created inside the `$HOME` directory, and the venv is created inside it."
   ]
  },
  {
   "cell_type": "code",
   "metadata": {
    "pycharm": {
     "name": "#%%\n"
    }
   },
   "source": [
    "# Import the required packages\n",
    "import sys\n",
    "\n",
    "# Change current working directory to top of the repository: ~/ceda-notebooks/\n",
    "sys.path.append('../../..')\n",
    "\n",
    "from scripts.utils import venv_utils\n",
    "\n",
    "# Define the name of the venv to install virtual environments\n",
    "venv_name = 'venv_notebook'"
   ],
   "execution_count": null,
   "outputs": []
  },
  {
   "cell_type": "markdown",
   "metadata": {
    "pycharm": {
     "name": "#%% md\n"
    }
   },
   "source": [
    "Since you only need to create the virtual environment once, the create method will check for it's existence"
   ]
  },
  {
   "cell_type": "code",
   "metadata": {
    "pycharm": {
     "name": "#%%\n"
    }
   },
   "source": [
    "# Create the venv\n",
    "venv_utils.create_venv(venv_name=venv_name)"
   ],
   "execution_count": null,
   "outputs": []
  },
  {
   "cell_type": "markdown",
   "metadata": {
    "pycharm": {
     "name": "#%% md\n"
    }
   },
   "source": [
    "#### Step 2 - activate the venv\n",
    "\n",
    "Use the activate method to add the venv to your notebook and use packages installed in the venv."
   ]
  },
  {
   "cell_type": "code",
   "metadata": {
    "pycharm": {
     "name": "#%%\n"
    }
   },
   "source": [
    "# Activate the venv\n",
    "venv_utils.activate_venv(venv_name=venv_name)"
   ],
   "execution_count": null,
   "outputs": []
  },
  {
   "cell_type": "markdown",
   "metadata": {
    "pycharm": {
     "name": "#%% md\n"
    }
   },
   "source": [
    "#### Step 3 - install a new package\n",
    "\n",
    "In this case, we install the `fixnc` package from the PyPI repository using the install package method"
   ]
  },
  {
   "cell_type": "code",
   "execution_count": null,
   "metadata": {},
   "outputs": [],
   "source": [
    "# First let's assert that we cannot import `fixnc`\n",
    "try:\n",
    "    import fixnc\n",
    "except ModuleNotFoundError as err:\n",
    "    print('Failed to import \"fixnc\" as expected')"
   ]
  },
  {
   "cell_type": "code",
   "metadata": {
    "pycharm": {
     "name": "#%%\n"
    }
   },
   "source": [
    "# Install the package\n",
    "venv_utils.install_package('fixnc', venv_name=venv_name)"
   ],
   "execution_count": null,
   "outputs": []
  },
  {
   "cell_type": "markdown",
   "metadata": {
    "pycharm": {
     "name": "#%% md\n"
    }
   },
   "source": [
    "If we wanted to install more than one package, the `install_packages` method is more convenient.\n",
    "Put the packages into a list and use the list in the method."
   ]
  },
  {
   "cell_type": "code",
   "execution_count": null,
   "metadata": {},
   "outputs": [],
   "source": [
    "packages = [\"fixnc\"]\n",
    "venv_utils.install_packages(packages=packages, venv_name=venv_name)"
   ]
  },
  {
   "cell_type": "markdown",
   "source": [
    "Demonstrate it works, by importing it and finding out where the module has been installed."
   ],
   "metadata": {
    "collapsed": false
   }
  },
  {
   "cell_type": "code",
   "execution_count": null,
   "outputs": [],
   "source": [
    "import fixnc\n",
    "print(fixnc.__file__)\n"
   ],
   "metadata": {
    "collapsed": false,
    "pycharm": {
     "name": "#%%\n"
    }
   }
  }
 ],
 "metadata": {
  "kernelspec": {
   "display_name": "Python 3 + Jaspy",
   "language": "python",
   "name": "jaspy"
  },
  "language_info": {
   "codemirror_mode": {
    "name": "ipython",
    "version": 3
   },
   "file_extension": ".py",
   "mimetype": "text/x-python",
   "name": "python",
   "nbconvert_exporter": "python",
   "pygments_lexer": "ipython3",
   "version": "3.7.1"
  }
 },
 "nbformat": 4,
 "nbformat_minor": 4
}