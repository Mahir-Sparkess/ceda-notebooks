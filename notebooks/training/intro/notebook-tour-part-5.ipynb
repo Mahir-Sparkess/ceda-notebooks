{
 "cells": [
  {
   "cell_type": "markdown",
   "metadata": {},
   "source": [
    "# Introducing the JASMIN Notebook Service\n",
    "\n",
    "In this Notebook, we will discuss:\n",
    "\n",
    "1. What is a Notebook?\n",
    "2. Using Python in the browser \n",
    "3. Plotting in a Notebook\n",
    "4. Working with data in the CEDA Archive\n",
    "5. Accessing data in Group Workspaces\n",
    "6. Creating virtual environments to install additional software\n",
    "7. Sharing Notebooks"
   ]
  },
  {
   "cell_type": "markdown",
   "metadata": {},
   "source": [
    "## 5. Accessing data in Group Workspaces\n",
    "\n",
    "On JASMIN, many project share data internally using large disk allocations known as Group Workspaces (GWSs). Your JASMIN Notebook session has _read access_ to any GWSs that you can normally access via an SSH session.\n",
    "\n",
    "For example:"
   ]
  },
  {
   "cell_type": "code",
   "execution_count": null,
   "metadata": {},
   "outputs": [],
   "source": [
    "import pandas as pd\n",
    "\n",
    "fpath = '/gws/nopw/j04/cedaproc/public-data/uk_max_temp.txt'\n",
    "df = pd.read_csv(fpath, sep='\\s+', header=6, index_col='Year')"
   ]
  },
  {
   "cell_type": "markdown",
   "metadata": {},
   "source": [
    "This is a Pandas DataFrame, let's take a look at the first few rows"
   ]
  },
  {
   "cell_type": "code",
   "execution_count": null,
   "metadata": {},
   "outputs": [],
   "source": [
    "df.head(3)"
   ]
  },
  {
   "cell_type": "code",
   "execution_count": null,
   "metadata": {},
   "outputs": [],
   "source": [
    "# Select January and July\n",
    "jj = df.loc[:, ['JAN', 'JUL']]\n",
    "jj.head(5)"
   ]
  },
  {
   "cell_type": "code",
   "execution_count": null,
   "metadata": {},
   "outputs": [],
   "source": [
    "len(jj)"
   ]
  },
  {
   "cell_type": "markdown",
   "metadata": {},
   "source": [
    "And we can plot it:"
   ]
  },
  {
   "cell_type": "code",
   "execution_count": null,
   "metadata": {},
   "outputs": [],
   "source": [
    "ax = jj.plot(title='January vs July maximum temp records (degC)')\n",
    "ax.set_ylabel('Max Temp (degC)')"
   ]
  },
  {
   "cell_type": "code",
   "execution_count": null,
   "metadata": {},
   "outputs": [],
   "source": []
  }
 ],
 "metadata": {
  "kernelspec": {
   "display_name": "Python 3 + Jaspy",
   "language": "python",
   "name": "jaspy"
  },
  "language_info": {
   "codemirror_mode": {
    "name": "ipython",
    "version": 3
   },
   "file_extension": ".py",
   "mimetype": "text/x-python",
   "name": "python",
   "nbconvert_exporter": "python",
   "pygments_lexer": "ipython3",
   "version": "3.7.1"
  }
 },
 "nbformat": 4,
 "nbformat_minor": 4
}
