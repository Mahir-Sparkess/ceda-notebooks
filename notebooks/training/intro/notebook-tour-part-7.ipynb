{
 "cells": [
  {
   "cell_type": "markdown",
   "metadata": {},
   "source": [
    "# Introducing the JASMIN Notebook Service\n",
    "\n",
    "In this Notebook, we will discuss:\n",
    "\n",
    "1. What is a Notebook?\n",
    "2. Using Python in the browser \n",
    "3. Plotting in a Notebook\n",
    "4. Working with data in the CEDA Archive\n",
    "5. Accessing data in Group Workspaces\n",
    "6. Creating virtual environments to install additional software\n",
    "7. Sharing Notebooks"
   ]
  },
  {
   "cell_type": "markdown",
   "metadata": {},
   "source": [
    "## 7. Sharing Notebooks\n",
    "\n",
    "When you have produced a useful Notebook, it is a great idea to:\n",
    "1. Put it into a version control system so that it is safe (and versioned)\n",
    "2. Share it with your colleagues and collaborators\n",
    "\n",
    "We recommend using GitHub for this. "
   ]
  },
  {
   "cell_type": "markdown",
   "metadata": {},
   "source": [
    "### Using GitHub repositories to store and share Notebooks\n",
    "\n",
    "GitHub is an awesome website and collection of tools that allows you to manage, release and share code.\n",
    "\n",
    "It uses Git, a distributed version control system, that we thoroughly recommend - see our webinar on the subject:\n",
    "\n",
    "https://www.ceda.ac.uk/events/introduction-to-git-and-github/\n",
    "\n",
    "#### How to get started\n",
    "\n",
    "Firstly, create a GitHub user account:\n",
    "\n",
    "https://github.com/\n",
    "\n",
    "Then create your own repository:\n",
    "\n",
    "https://github.com/new\n",
    "\n",
    "Then _clone_ it locally, which you can even do inside a Notebook (using the exclamation mark to call out to the Linux Shell):"
   ]
  },
  {
   "cell_type": "code",
   "execution_count": null,
   "metadata": {},
   "outputs": [],
   "source": [
    "!git clone https://agstephens@github.com/agstephens/my-notebooks ~/my-notebooks"
   ]
  },
  {
   "cell_type": "markdown",
   "metadata": {},
   "source": [
    "And navigate to that directory in the file navigator on the left-hand bar."
   ]
  },
  {
   "cell_type": "markdown",
   "metadata": {},
   "source": [
    "### Create a Notebook in that directory, or copy one across\n",
    "\n",
    "You can add notebooks into the repository and commit them back to GitHub - and share them with the world!"
   ]
  },
  {
   "cell_type": "code",
   "execution_count": null,
   "metadata": {},
   "outputs": [],
   "source": []
  }
 ],
 "metadata": {
  "kernelspec": {
   "display_name": "Python 3 + Jaspy",
   "language": "python",
   "name": "jaspy"
  },
  "language_info": {
   "codemirror_mode": {
    "name": "ipython",
    "version": 3
   },
   "file_extension": ".py",
   "mimetype": "text/x-python",
   "name": "python",
   "nbconvert_exporter": "python",
   "pygments_lexer": "ipython3",
   "version": "3.7.1"
  }
 },
 "nbformat": 4,
 "nbformat_minor": 4
}
