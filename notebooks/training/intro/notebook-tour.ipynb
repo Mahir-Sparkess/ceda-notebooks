{
 "cells": [
  {
   "cell_type": "markdown",
   "metadata": {},
   "source": [
    "# Introducing the JASMIN Notebook Service\n",
    "\n",
    "In this Notebook, we will discuss:\n",
    "\n",
    "1. What is a Notebook?\n",
    "2. Using Python in the browser \n",
    "3. Plotting in a Notebook\n",
    "4. Working with data in the CEDA Archive\n",
    "5. Accessing data in Group Workspaces\n",
    "6. Creating virtual environments to install additional software\n",
    "7. Sharing Notebooks"
   ]
  },
  {
   "cell_type": "markdown",
   "metadata": {},
   "source": [
    "## 1. What is a Jupyter Notebook?\n",
    "\n",
    "A Notebook is an interactive programming environment that runs in a web-browser. Put simply, a Notebook allows you to:\n",
    "- Define, edit and run code (in Python)\n",
    "- Embed visualisations within your code to demonstrate what it does\n",
    "- Include notes to document your workflow\n",
    "- Share your work with others (e.g. via GitHub)\n",
    "\n",
    "We will demonstrate some Notebook behaviour here, and you will see how they can be used.\n",
    "\n",
    "For more information, see the \"Help\" tab above, or:\n",
    "\n",
    " - JASMIN Notebook Help: https://help.jasmin.ac.uk/article/4851-jasmin-notebook-service#what-is-a-jupyter-notebook\n",
    " - Intro to Jupyter Lab: https://jupyter.org/\n",
    " - Try a Jupyter Lab Notebook in your browser: https://jupyter.org/try\n",
    "   - NOTE: The above is _not_ a JASMIN service."
   ]
  },
  {
   "cell_type": "markdown",
   "metadata": {},
   "source": [
    "### Why use the JASMIN Notebook Service (rather than another)?\n",
    "\n",
    "Many of you will have used Jupyter Notebooks elsewhere. So why use the JASMIN Notebook Service? Here are some reasons why:\n",
    "\n",
    " 1. It uses your JASMIN \"login\" account:\n",
    "   - your `$HOME` directory is the same as an SSH terminal session on JASMIN.\n",
    " 2. You can read the CEDA archive directly:\n",
    "   - `/badc/` and `/neodc` are visible\n",
    "   - you can view the same data sets as you can via an SSH session\n",
    " 3. You can read from Group Workspaces:\n",
    "   - your Notebook can see all Group Workspaces that your JASMIN account has access to\n",
    " 4. The common JASMIN software is available:\n",
    "   - the \"jaspy\" packages are installed in the Python3.7 environment\n",
    "     - see: https://help.jasmin.ac.uk/article/4729-jaspy-envs\n",
    " 5. You can install additional packages to extend your Notebook environments"
   ]
  },
  {
   "cell_type": "markdown",
   "metadata": {},
   "source": [
    "**You can find the JASMIN Notebook Service here:**\n",
    "https://notebooks.jasmin.ac.uk/"
   ]
  },
  {
   "cell_type": "markdown",
   "metadata": {},
   "source": [
    "## 2. Using Python in the browser\n",
    "\n",
    "The main feature of Notebooks is that you can _run_ code in your browser\\*. **Let's take a look.**\n",
    "\n",
    "*NOTE: the code doesn't really run in the browser!"
   ]
  },
  {
   "cell_type": "code",
   "execution_count": null,
   "metadata": {},
   "outputs": [],
   "source": [
    "print('hello')\n",
    "# Then press: Shift+Enter - which executes the cell and move to the next one.\n",
    "#                           If there isn't one below, it creates a new one for you.\n",
    "# Or press:   Ctrl+Enter  - which executes the cell (and stays focussed on the current cell).\n",
    "#\n",
    "# Or press:   Alt+Enter   - which executes the cell and creates a new one for you."
   ]
  },
  {
   "cell_type": "code",
   "execution_count": null,
   "metadata": {},
   "outputs": [],
   "source": [
    "# In fact, you don't need \"print\"\n",
    "'hello'"
   ]
  },
  {
   "cell_type": "markdown",
   "metadata": {},
   "source": [
    "You can include any Python that you might run in a script or interactive session..."
   ]
  },
  {
   "cell_type": "code",
   "execution_count": null,
   "metadata": {},
   "outputs": [],
   "source": [
    "ZERO = 273.15\n",
    "\n",
    "def convert_temp(celsius):\n",
    "    \"\"\"\n",
    "    Convert temperature (celsius) to temperature (kelvin).\n",
    "    \n",
    "    Return: temperature in Kelvin\n",
    "    \"\"\"\n",
    "    kelvin = celsius + ZERO\n",
    "    return kelvin"
   ]
  },
  {
   "cell_type": "markdown",
   "metadata": {},
   "source": [
    "Having defined a function, we can call it later in the Notebook:"
   ]
  },
  {
   "cell_type": "code",
   "execution_count": null,
   "metadata": {},
   "outputs": [],
   "source": [
    "if convert_temp(0) != 273.15:\n",
    "    'That function is bad'\n",
    "else:\n",
    "    print('It works!')"
   ]
  },
  {
   "cell_type": "markdown",
   "metadata": {},
   "source": [
    "NOTE: we can't run a function in a cell that hasn't been run yet...\n"
   ]
  },
  {
   "cell_type": "code",
   "execution_count": null,
   "metadata": {},
   "outputs": [],
   "source": [
    "say_hello()"
   ]
  },
  {
   "cell_type": "code",
   "execution_count": null,
   "metadata": {},
   "outputs": [],
   "source": [
    "def say_hello():\n",
    "    print('Hello :-)')"
   ]
  },
  {
   "cell_type": "markdown",
   "metadata": {},
   "source": [
    "Now we have defined it, we can run it:"
   ]
  },
  {
   "cell_type": "code",
   "execution_count": null,
   "metadata": {},
   "outputs": [],
   "source": [
    "say_hello()"
   ]
  },
  {
   "cell_type": "markdown",
   "metadata": {},
   "source": [
    "**IMPORTANT: Each time you run a Notebook you need to execute all cells in order if you want them all to run. Just like any other programme, you must _do things in a logical order_!**"
   ]
  },
  {
   "cell_type": "markdown",
   "metadata": {},
   "source": [
    "### Let's make it more exciting\n",
    "\n",
    "Try importing a module from the Python standard library:\n"
   ]
  },
  {
   "cell_type": "code",
   "execution_count": null,
   "metadata": {},
   "outputs": [],
   "source": [
    "import math\n",
    "math.pi"
   ]
  },
  {
   "cell_type": "markdown",
   "metadata": {},
   "source": [
    "What about importing a package provided via Jaspy?"
   ]
  },
  {
   "cell_type": "code",
   "execution_count": null,
   "metadata": {},
   "outputs": [],
   "source": [
    "import pandas as pd\n",
    "df = pd.DataFrame({'name': ['jen', 'ken', 'pen'], 'age': [22, 33, 44]})"
   ]
  },
  {
   "cell_type": "markdown",
   "metadata": {},
   "source": [
    "Another really cool thing about Notebooks is that they can render content from some packages, `pandas` being one of them."
   ]
  },
  {
   "cell_type": "code",
   "execution_count": null,
   "metadata": {},
   "outputs": [],
   "source": [
    "# Display the contents of the Pandas DataFrame\n",
    "df"
   ]
  },
  {
   "cell_type": "markdown",
   "metadata": {},
   "source": [
    "### You can even run Shell commands!\n",
    "\n",
    "Jupyter Notebooks are so clever - you can even run commands in the Linux Shell, by starting the code line with an exclamation mark `!`."
   ]
  },
  {
   "cell_type": "code",
   "execution_count": null,
   "metadata": {},
   "outputs": [],
   "source": [
    "!pwd"
   ]
  },
  {
   "cell_type": "code",
   "execution_count": null,
   "metadata": {},
   "outputs": [],
   "source": [
    "!ls -l"
   ]
  },
  {
   "cell_type": "markdown",
   "metadata": {},
   "source": [
    "## 3. Plotting in a Notebook\n",
    "\n",
    "Wouldn't it be great if you could view plots in a Notebook? Well, you can, using `matplotlib` and libraries that interact with it."
   ]
  },
  {
   "cell_type": "code",
   "execution_count": null,
   "metadata": {},
   "outputs": [],
   "source": [
    "import matplotlib.pyplot as plt"
   ]
  },
  {
   "cell_type": "code",
   "execution_count": null,
   "metadata": {},
   "outputs": [],
   "source": [
    "plt.plot(range(10))"
   ]
  },
  {
   "cell_type": "markdown",
   "metadata": {},
   "source": [
    "## 4. Working with data in the CEDA archive\n",
    "\n",
    "Now we know it is possible to import software libraries, write code, annotate it and generate visualisations - let's look at some real data. \n",
    "\n",
    "**The JASMIN Notebook Service can automatically see the CEDA archive.** This means that you can access any of the data sets that you would normally have access to when logged into JASMIN.\n",
    "\n",
    "The CEDA archive lives under the directories:\n",
    "\n",
    "`/badc/`\n",
    "`/neodc/`\n",
    "\n",
    "You can find out more about CEDA data sets, and their access rules, in our catalogue:\n",
    "\n",
    "https://catalogue.ceda.ac.uk"
   ]
  },
  {
   "cell_type": "markdown",
   "metadata": {},
   "source": [
    "### Plotting some CMIP6 data\n",
    "\n",
    "Let's demonstrate plotting some data from the CMIP6 project."
   ]
  },
  {
   "cell_type": "code",
   "execution_count": null,
   "metadata": {},
   "outputs": [],
   "source": [
    "import xarray as xr\n",
    "fpath = '/badc/cmip6/data/CMIP6/CMIP/NCAR/CESM2/abrupt-4xCO2/r1i1p1f1/Amon/' \\\n",
    "    'tas/gn/v20190927/tas_Amon_CESM2_abrupt-4xCO2_r1i1p1f1_gn_095001-099912.nc'\n",
    "\n",
    "ds = xr.open_dataset(fpath)"
   ]
  },
  {
   "cell_type": "code",
   "execution_count": null,
   "metadata": {},
   "outputs": [],
   "source": [
    "ds"
   ]
  },
  {
   "cell_type": "code",
   "execution_count": null,
   "metadata": {},
   "outputs": [],
   "source": [
    "layer = ds.tas.sel(time='0999-12-15T12:00:00').squeeze()\n",
    "layer.shape"
   ]
  },
  {
   "cell_type": "markdown",
   "metadata": {},
   "source": [
    "### Let's plot the near-surface air temperature\n",
    "\n",
    "We want to plot the temperature over the whole globe."
   ]
  },
  {
   "cell_type": "code",
   "execution_count": null,
   "metadata": {},
   "outputs": [],
   "source": [
    "import matplotlib.pyplot as plt\n",
    "\n",
    "layer.plot()\n",
    "plt.show()"
   ]
  },
  {
   "cell_type": "markdown",
   "metadata": {},
   "source": [
    "Now we will focus in on Africa using the Plate Carree projection projection, adding in coastlines and borders."
   ]
  },
  {
   "cell_type": "code",
   "execution_count": null,
   "metadata": {},
   "outputs": [],
   "source": [
    "import cartopy.crs as ccrs\n",
    "import cartopy.feature as cfeature\n",
    "\n",
    "fig = plt.figure()\n",
    "ax = fig.add_subplot(1, 1, 1, projection=ccrs.PlateCarree())\n",
    "ax.set_extent([-20, 60, -40, 45], crs=ccrs.PlateCarree())\n",
    "ax.add_feature(cfeature.BORDERS, linestyle=':')\n",
    "ax.coastlines()\n",
    "\n",
    "layer.plot()\n",
    "plt.show()"
   ]
  },
  {
   "cell_type": "markdown",
   "metadata": {},
   "source": [
    "## 5. Accessing data in Group Workspaces\n",
    "\n",
    "On JASMIN, many project share data internally using large disk allocations known as Group Workspaces (GWSs). Your JASMIN Notebook session has _read access_ to any GWSs that you can normally access via an SSH session.\n",
    "\n",
    "For example:"
   ]
  },
  {
   "cell_type": "code",
   "execution_count": null,
   "metadata": {},
   "outputs": [],
   "source": [
    "import pandas as pd\n",
    "\n",
    "fpath = '/gws/nopw/j04/cedaproc/public-data/uk_max_temp.txt'\n",
    "df = pd.read_csv(fpath, sep='\\s+', header=6, index_col='Year')"
   ]
  },
  {
   "cell_type": "markdown",
   "metadata": {},
   "source": [
    "This is a Pandas DataFrame, let's take a look at the first few rows"
   ]
  },
  {
   "cell_type": "code",
   "execution_count": null,
   "metadata": {},
   "outputs": [],
   "source": [
    "df.head(3)"
   ]
  },
  {
   "cell_type": "code",
   "execution_count": null,
   "metadata": {},
   "outputs": [],
   "source": [
    "# Select January and July\n",
    "jj = df.loc[:, ['JAN', 'JUL']]\n",
    "jj.head(5)"
   ]
  },
  {
   "cell_type": "markdown",
   "metadata": {},
   "source": [
    "And we can plot it:"
   ]
  },
  {
   "cell_type": "code",
   "execution_count": null,
   "metadata": {},
   "outputs": [],
   "source": [
    "ax = jj.plot(title='January vs July maximum temp records (degC)')\n",
    "ax.set_ylabel('Max Temp (degC)')"
   ]
  },
  {
   "cell_type": "markdown",
   "metadata": {},
   "source": [
    "## 6. Creating virtual environments to install software\n",
    "\n",
    "The JASMIN Notebook Service provides a _fixed_ Python3 software environment. This will be updated from time to time but may not be as dynamic as some users require.\n",
    "\n",
    "If you need to add extra software to the environment you can do so - using Python's `virtual environments`. Here's how you can do it..."
   ]
  },
  {
   "cell_type": "markdown",
   "metadata": {},
   "source": [
    "### Creating and using a Virtual Environment inside an existing Notebook\n",
    "\n",
    "This Notebook demonstrates how you can use the Python `virtualenv` and `pip` packages to work with a Virtual Environment (`venv`) _inside_ an existing Notebook.\n",
    "\n",
    "There are 3 steps:\n",
    " 1. Create a venv - only required once\n",
    " 2. Activate the venv - required any time you want to use the venv\n",
    " 3. Install extra packages - whenever you need to add a new package\n",
    " \n",
    "**NOTE: these instructions suggest putting all venvs that are used in Notebooks under a `~/nb-venvs/` directory. These venvs will _not_ work if you are logged directly into JASMIN via SSH.**"
   ]
  },
  {
   "cell_type": "markdown",
   "metadata": {},
   "source": [
    "#### Step 1 - create a venv\n",
    "\n",
    "You only need to create a venv once. In this example an `nb-venvs` directory is created inside the `$HOME` directory, and the venv is created inside it."
   ]
  },
  {
   "cell_type": "code",
   "execution_count": null,
   "metadata": {},
   "outputs": [],
   "source": [
    "# Import the required packages\n",
    "import virtualenv\n",
    "import pip\n",
    "import os\n",
    "\n",
    "# Define and create the base directory install virtual environments\n",
    "venvs_dir = os.path.join(os.path.expanduser(\"~\"), \"nb-venvs\")\n",
    "\n",
    "if not os.path.isdir(venvs_dir):\n",
    "    os.makedirs(venvs_dir)\n",
    "    \n",
    "# Define the venv directory\n",
    "venv_dir = os.path.join(venvs_dir, 'venv-notebook')"
   ]
  },
  {
   "cell_type": "markdown",
   "metadata": {},
   "source": [
    "Since you only need to create the virtual environment once, check for its existence before trying to create it:"
   ]
  },
  {
   "cell_type": "code",
   "execution_count": null,
   "metadata": {},
   "outputs": [],
   "source": [
    "if not os.path.isdir(venv_dir):\n",
    "    # Create the virtual environment\n",
    "    print(f'[INFO] Creating: virtual env at: {venv_dir}')\n",
    "    virtualenv.create_environment(venv_dir)"
   ]
  },
  {
   "cell_type": "markdown",
   "metadata": {},
   "source": [
    "#### Step 2 - activate the venv\n",
    "\n",
    "Activation makes use of the `activate_this.py` file within the venv."
   ]
  },
  {
   "cell_type": "code",
   "execution_count": null,
   "metadata": {},
   "outputs": [],
   "source": [
    "# Activate the venv\n",
    "activate_file = os.path.join(venv_dir, \"bin\", \"activate_this.py\")\n",
    "exec(open(activate_file).read(), dict(__file__=activate_file))"
   ]
  },
  {
   "cell_type": "markdown",
   "metadata": {},
   "source": [
    "#### Step 3 - install a new package\n",
    "\n",
    "In this case, we install the `fixnc` package from the PyPI repository using the `pip` library."
   ]
  },
  {
   "cell_type": "code",
   "execution_count": null,
   "metadata": {},
   "outputs": [],
   "source": [
    "# First let's assert that we cannot import `fixnc`\n",
    "try:\n",
    "    import fixnc\n",
    "except ModuleNotFoundError as err:\n",
    "    print('Failed to import \"fixnc\" as expected')"
   ]
  },
  {
   "cell_type": "code",
   "execution_count": null,
   "metadata": {},
   "outputs": [],
   "source": [
    "# pip install a package using the venv as a prefix\n",
    "pip.main([\"install\", \"--prefix\", venv_dir, \"fixnc\"])"
   ]
  },
  {
   "cell_type": "markdown",
   "metadata": {},
   "source": [
    "Demonstrate it works, by importing it and finding out where the module has been installed."
   ]
  },
  {
   "cell_type": "code",
   "execution_count": null,
   "metadata": {},
   "outputs": [],
   "source": [
    "import fixnc\n",
    "print(fixnc.__file__)"
   ]
  },
  {
   "cell_type": "markdown",
   "metadata": {},
   "source": [
    "## 7. Sharing Notebooks\n",
    "\n",
    "When you have produced a useful Notebook, it is a great idea to:\n",
    "1. Put it into a version control system so that it is safe (and versioned)\n",
    "2. Share it with your colleagues and collaborators\n",
    "\n",
    "We recommend using GitHub for this. "
   ]
  },
  {
   "cell_type": "markdown",
   "metadata": {},
   "source": [
    "### Using GitHub repositories to store and share Notebooks\n",
    "\n",
    "GitHub is an awesome website and collection of tools that allows you to manage, release and share code.\n",
    "\n",
    "It uses Git, a distributed version control system, that we thoroughly recommend - see our webinar on the subject:\n",
    "\n",
    "https://www.ceda.ac.uk/events/introduction-to-git-and-github/\n",
    "\n",
    "#### How to get started\n",
    "\n",
    "Firstly, create a GitHub user account:\n",
    "\n",
    "https://github.com/\n",
    "\n",
    "Then create your own repository:\n",
    "\n",
    "https://github.com/new\n",
    "\n",
    "Then _clone_ it locally, which you can even do inside a Notebook (using the exclamation mark to call out to the Linux Shell):"
   ]
  },
  {
   "cell_type": "code",
   "execution_count": null,
   "metadata": {},
   "outputs": [],
   "source": [
    "!git clone https://github.com/agstephens/quick-software-tests ~/quick-software-tests"
   ]
  },
  {
   "cell_type": "markdown",
   "metadata": {},
   "source": [
    "And navigate to that directory in the file navigator on the left-hand bar."
   ]
  },
  {
   "cell_type": "markdown",
   "metadata": {},
   "source": [
    "### Create a Notebook in that directory, or copy one across\n",
    "\n",
    "You can add notebooks into the repository and commit them back to GitHub - and share them with the world!"
   ]
  },
  {
   "cell_type": "code",
   "execution_count": null,
   "metadata": {},
   "outputs": [],
   "source": []
  }
 ],
 "metadata": {
  "kernelspec": {
   "display_name": "Python 3 + Jaspy",
   "language": "python",
   "name": "jaspy"
  },
  "language_info": {
   "codemirror_mode": {
    "name": "ipython",
    "version": 3
   },
   "file_extension": ".py",
   "mimetype": "text/x-python",
   "name": "python",
   "nbconvert_exporter": "python",
   "pygments_lexer": "ipython3",
   "version": "3.7.1"
  }
 },
 "nbformat": 4,
 "nbformat_minor": 4
}
