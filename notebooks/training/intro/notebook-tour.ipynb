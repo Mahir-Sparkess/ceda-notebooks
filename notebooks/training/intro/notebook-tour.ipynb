{
 "cells": [
  {
   "cell_type": "markdown",
   "metadata": {},
   "source": [
    "# Introducing the JASMIN Notebook Service\n",
    "\n",
    "In this Notebook, we will discuss:\n",
    "\n",
    "1. What is a Notebook?\n",
    "2. Using Python in the browser \n",
    "3. Plotting in a Notebook\n",
    "4. Working with data in the CEDA Archive\n",
    "5. Accessing data in Group Workspaces\n",
    "6. Creating virtual environments to install additional software\n",
    "7. Sharing Notebooks"
   ]
  },
  {
   "cell_type": "markdown",
   "metadata": {},
   "source": [
    "## 1. What is a Jupyter Notebook?\n",
    "\n",
    "A Notebook is an interactive programming environment that runs in a web-browser. Put simply, a Notebook allows you to:\n",
    "- Define, edit and run code (in Python)\n",
    "- Embed visualisations within your code to demonstrate what it does\n",
    "- Include notes to document your workflow\n",
    "- Share your work with others (e.g. via GitHub)\n",
    "\n",
    "We will demonstrate some Notebook behaviour here, and you will see how they can be used.\n",
    "\n",
    "For more information, see the \"Help\" tab above, or:\n",
    "\n",
    " - JASMIN Notebook Help: https://help.jasmin.ac.uk/article/4851-jasmin-notebook-service#what-is-a-jupyter-notebook\n",
    " - Intro to Jupyter Lab: https://jupyter.org/\n",
    " - Try a Jupyter Lab Notebook in your browser: https://jupyter.org/try\n",
    "   - NOTE: The above is _not_ a JASMIN service."
   ]
  },
  {
   "cell_type": "markdown",
   "metadata": {},
   "source": [
    "### Why use the JASMIN Notebook Service (rather than another)?\n",
    "\n",
    "Many of you will have used Jupyter Notebooks elsewhere. So why use the JASMIN Notebook Service? Here are some reasons why:\n",
    "\n",
    " 1. It uses your JASMIN \"login\" account:\n",
    "   - your `$HOME` directory is the same as an SSH terminal session on JASMIN.\n",
    " 2. You can read the CEDA archive directly:\n",
    "   - `/badc/` and `/neodc` are visible\n",
    "   - you can view the same data sets as you can via an SSH session\n",
    " 3. You can read from Group Workspaces:\n",
    "   - your Notebook can see all Group Workspaces that your JASMIN account has access to\n",
    " 4. The common JASMIN software is available:\n",
    "   - the \"jaspy\" packages are installed in the Python3.7 environment\n",
    "     - see: https://help.jasmin.ac.uk/article/4729-jaspy-envs\n",
    " 5. You can install additional packages to extend your Notebook environments"
   ]
  },
  {
   "cell_type": "markdown",
   "metadata": {},
   "source": [
    "**You can find the JASMIN Notebook Service here:**\n",
    "https://notebooks.jasmin.ac.uk/"
   ]
  },
  {
   "cell_type": "markdown",
   "metadata": {},
   "source": [
    "## 2. Using Python in the browser\n",
    "\n",
    "The main feature of Notebooks is that you can _run_ code in your browser\\*. **Let's take a look.**\n",
    "\n",
    "*NOTE: the code doesn't really run in the browser!"
   ]
  },
  {
   "cell_type": "code",
   "execution_count": 9,
   "metadata": {},
   "outputs": [
    {
     "name": "stdout",
     "output_type": "stream",
     "text": [
      "hello\n"
     ]
    }
   ],
   "source": [
    "print('hello')\n",
    "# Then press: Shift+Enter - which executes the cell and move to the next one.\n",
    "#                           If there isn't one below, it creates a new one for you.\n",
    "# Or press:   Ctrl+Enter  - which executes the cell (and stays focussed on the current cell).\n",
    "#\n",
    "# Or press:   Alt+Enter   - which executes the cell and creates a new one for you."
   ]
  },
  {
   "cell_type": "code",
   "execution_count": 10,
   "metadata": {},
   "outputs": [
    {
     "data": {
      "text/plain": [
       "'hello'"
      ]
     },
     "execution_count": 10,
     "metadata": {},
     "output_type": "execute_result"
    }
   ],
   "source": [
    "# In fact, you don't need \"print\"\n",
    "'hello'"
   ]
  },
  {
   "cell_type": "markdown",
   "metadata": {},
   "source": [
    "You can include any Python that you might run in a script or interactive session..."
   ]
  },
  {
   "cell_type": "code",
   "execution_count": 11,
   "metadata": {},
   "outputs": [],
   "source": [
    "ZERO = 273.15\n",
    "\n",
    "def convert_temp(celsius):\n",
    "    \"\"\"\n",
    "    Convert temperature (celsius) to temperature (kelvin).\n",
    "    \n",
    "    Return: temperature in Kelvin\n",
    "    \"\"\"\n",
    "    kelvin = celsius + ZERO\n",
    "    return kelvin"
   ]
  },
  {
   "cell_type": "markdown",
   "metadata": {},
   "source": [
    "Having defined a function, we can call it later in the Notebook:"
   ]
  },
  {
   "cell_type": "code",
   "execution_count": 12,
   "metadata": {},
   "outputs": [
    {
     "name": "stdout",
     "output_type": "stream",
     "text": [
      "It works!\n"
     ]
    }
   ],
   "source": [
    "if convert_temp(0) != 273.15:\n",
    "    'That function is bad'\n",
    "else:\n",
    "    print('It works!')"
   ]
  },
  {
   "cell_type": "markdown",
   "metadata": {},
   "source": [
    "NOTE: we can't run a function in a cell that hasn't been run yet...\n"
   ]
  },
  {
   "cell_type": "code",
   "execution_count": 13,
   "metadata": {},
   "outputs": [
    {
     "ename": "NameError",
     "evalue": "name 'say_hello' is not defined",
     "output_type": "error",
     "traceback": [
      "\u001b[0;31m---------------------------------------------------------------------------\u001b[0m",
      "\u001b[0;31mNameError\u001b[0m                                 Traceback (most recent call last)",
      "\u001b[0;32m<ipython-input-13-faa5fc24272a>\u001b[0m in \u001b[0;36m<module>\u001b[0;34m\u001b[0m\n\u001b[0;32m----> 1\u001b[0;31m \u001b[0msay_hello\u001b[0m\u001b[0;34m(\u001b[0m\u001b[0;34m)\u001b[0m\u001b[0;34m\u001b[0m\u001b[0;34m\u001b[0m\u001b[0m\n\u001b[0m",
      "\u001b[0;31mNameError\u001b[0m: name 'say_hello' is not defined"
     ]
    }
   ],
   "source": [
    "try:\n",
    "    say_hello()\n",
    "except Exception as e:\n",
    "    print(e)"
   ]
  },
  {
   "cell_type": "code",
   "execution_count": 14,
   "metadata": {},
   "outputs": [],
   "source": [
    "def say_hello():\n",
    "    print('Hello :-)')"
   ]
  },
  {
   "cell_type": "markdown",
   "metadata": {},
   "source": [
    "Now we have defined it, we can run it:"
   ]
  },
  {
   "cell_type": "code",
   "execution_count": 15,
   "metadata": {},
   "outputs": [
    {
     "name": "stdout",
     "output_type": "stream",
     "text": [
      "Hello :-)\n"
     ]
    }
   ],
   "source": [
    "try:\n",
    "    say_hello()\n",
    "except Exception as e:\n",
    "    print(e)"
   ]
  },
  {
   "cell_type": "markdown",
   "metadata": {},
   "source": [
    "**IMPORTANT: Each time you run a Notebook you need to execute all cells in order if you want them all to run. Just like any other programme, you must _do things in a logical order_!**"
   ]
  },
  {
   "cell_type": "markdown",
   "metadata": {},
   "source": [
    "### Let's make it more exciting\n",
    "\n",
    "Try importing a module from the Python standard library:\n"
   ]
  },
  {
   "cell_type": "code",
   "execution_count": 16,
   "metadata": {},
   "outputs": [
    {
     "data": {
      "text/plain": [
       "3.141592653589793"
      ]
     },
     "execution_count": 16,
     "metadata": {},
     "output_type": "execute_result"
    }
   ],
   "source": [
    "import math\n",
    "math.pi"
   ]
  },
  {
   "cell_type": "markdown",
   "metadata": {},
   "source": [
    "What about importing a package provided via Jaspy?"
   ]
  },
  {
   "cell_type": "code",
   "execution_count": 17,
   "metadata": {},
   "outputs": [],
   "source": [
    "import pandas as pd\n",
    "df = pd.DataFrame({'name': ['jen', 'ken', 'pen'], 'age': [22, 33, 44]})"
   ]
  },
  {
   "cell_type": "markdown",
   "metadata": {},
   "source": [
    "Another really cool thing about Notebooks is that they can render content from some packages, `pandas` being one of them."
   ]
  },
  {
   "cell_type": "code",
   "execution_count": 18,
   "metadata": {},
   "outputs": [
    {
     "data": {
      "text/html": [
       "<div>\n",
       "<style scoped>\n",
       "    .dataframe tbody tr th:only-of-type {\n",
       "        vertical-align: middle;\n",
       "    }\n",
       "\n",
       "    .dataframe tbody tr th {\n",
       "        vertical-align: top;\n",
       "    }\n",
       "\n",
       "    .dataframe thead th {\n",
       "        text-align: right;\n",
       "    }\n",
       "</style>\n",
       "<table border=\"1\" class=\"dataframe\">\n",
       "  <thead>\n",
       "    <tr style=\"text-align: right;\">\n",
       "      <th></th>\n",
       "      <th>name</th>\n",
       "      <th>age</th>\n",
       "    </tr>\n",
       "  </thead>\n",
       "  <tbody>\n",
       "    <tr>\n",
       "      <th>0</th>\n",
       "      <td>jen</td>\n",
       "      <td>22</td>\n",
       "    </tr>\n",
       "    <tr>\n",
       "      <th>1</th>\n",
       "      <td>ken</td>\n",
       "      <td>33</td>\n",
       "    </tr>\n",
       "    <tr>\n",
       "      <th>2</th>\n",
       "      <td>pen</td>\n",
       "      <td>44</td>\n",
       "    </tr>\n",
       "  </tbody>\n",
       "</table>\n",
       "</div>"
      ],
      "text/plain": [
       "  name  age\n",
       "0  jen   22\n",
       "1  ken   33\n",
       "2  pen   44"
      ]
     },
     "execution_count": 18,
     "metadata": {},
     "output_type": "execute_result"
    }
   ],
   "source": [
    "# Display the contents of the Pandas DataFrame\n",
    "df"
   ]
  },
  {
   "cell_type": "markdown",
   "metadata": {},
   "source": [
    "### You can even run Shell commands!\n",
    "\n",
    "Jupyter Notebooks are so clever - you can even run commands in the Linux Shell, by starting the code line with an exclamation mark `!`."
   ]
  },
  {
   "cell_type": "code",
   "execution_count": 19,
   "metadata": {},
   "outputs": [
    {
     "name": "stdout",
     "output_type": "stream",
     "text": [
      "/home/users/astephen/ceda-notebooks/notebooks/intro\n"
     ]
    }
   ],
   "source": [
    "!pwd"
   ]
  },
  {
   "cell_type": "code",
   "execution_count": 20,
   "metadata": {},
   "outputs": [
    {
     "name": "stdout",
     "output_type": "stream",
     "text": [
      "total 49\n",
      "-rw-r--r-- 1 astephen users   269 Jun 17 11:01 README.md\n",
      "-rw-r--r-- 1 astephen users  3161 Jun 17 11:13 notebook-tour-part-1.ipynb\n",
      "-rw-r--r-- 1 astephen users  5635 Jun 17 11:13 notebook-tour-part-2.ipynb\n",
      "-rw-r--r-- 1 astephen users  1618 Jun 17 11:15 notebook-tour-part-3.ipynb\n",
      "-rw-r--r-- 1 astephen users  3813 Jun 17 11:16 notebook-tour-part-4.ipynb\n",
      "-rw-r--r-- 1 astephen users  2706 Jun 17 11:16 notebook-tour-part-5.ipynb\n",
      "-rw-r--r-- 1 astephen users  5333 Jun 17 11:17 notebook-tour-part-6.ipynb\n",
      "-rw-r--r-- 1 astephen users  2932 Jun 17 11:15 notebook-tour-part-7.ipynb\n",
      "-rw-r--r-- 1 astephen users 21635 Jul 29 13:14 notebook-tour.ipynb\n"
     ]
    }
   ],
   "source": [
    "!ls -l"
   ]
  },
  {
   "cell_type": "markdown",
   "metadata": {},
   "source": [
    "## 3. Plotting in a Notebook\n",
    "\n",
    "Wouldn't it be great if you could view plots in a Notebook? Well, you can, using `matplotlib` and libraries that interact with it."
   ]
  },
  {
   "cell_type": "code",
   "execution_count": 21,
   "metadata": {},
   "outputs": [],
   "source": [
    "import matplotlib.pyplot as plt"
   ]
  },
  {
   "cell_type": "code",
   "execution_count": 22,
   "metadata": {},
   "outputs": [
    {
     "data": {
      "text/plain": [
       "[<matplotlib.lines.Line2D at 0x7f4a44474a58>]"
      ]
     },
     "execution_count": 22,
     "metadata": {},
     "output_type": "execute_result"
    },
    {
     "data": {
      "image/png": "[encoded data removed]",
      "text/plain": [
       "<Figure size 432x288 with 1 Axes>"
      ]
     },
     "metadata": {
      "needs_background": "light"
     },
     "output_type": "display_data"
    }
   ],
   "source": [
    "plt.plot(range(10))"
   ]
  },
  {
   "cell_type": "markdown",
   "metadata": {},
   "source": [
    "## 4. Working with data in the CEDA archive\n",
    "\n",
    "Now we know it is possible to import software libraries, write code, annotate it and generate visualisations - let's look at some real data. \n",
    "\n",
    "**The JASMIN Notebook Service can automatically see the CEDA archive.** This means that you can access any of the data sets that you would normally have access to when logged into JASMIN.\n",
    "\n",
    "The CEDA archive lives under the directories:\n",
    "\n",
    "`/badc/`\n",
    "`/neodc/`\n",
    "\n",
    "You can find out more about CEDA data sets, and their access rules, in our catalogue:\n",
    "\n",
    "https://catalogue.ceda.ac.uk"
   ]
  },
  {
   "cell_type": "markdown",
   "metadata": {},
   "source": [
    "### Plotting some CMIP6 data\n",
    "\n",
    "Let's demonstrate plotting some data from the CMIP6 project."
   ]
  },
  {
   "cell_type": "code",
   "execution_count": 23,
   "metadata": {},
   "outputs": [
    {
     "name": "stderr",
     "output_type": "stream",
     "text": [
      "/opt/jaspy/lib/python3.7/site-packages/xarray/conventions.py:362: SerializationWarning: variable 'tas' has multiple fill values {1e+20, 1e+20}, decoding all values to NaN.\n",
      "  stack_char_dim=stack_char_dim)\n"
     ]
    }
   ],
   "source": [
    "import xarray as xr\n",
    "fpath = '/badc/cmip6/data/CMIP6/CMIP/NCAR/CESM2/abrupt-4xCO2/r1i1p1f1/Amon/' \\\n",
    "    'tas/gn/v20190927/tas_Amon_CESM2_abrupt-4xCO2_r1i1p1f1_gn_095001-099912.nc'\n",
    "\n",
    "ds = xr.open_dataset(fpath)"
   ]
  },
  {
   "cell_type": "code",
   "execution_count": 24,
   "metadata": {},
   "outputs": [
    {
     "data": {
      "text/plain": [
       "<xarray.Dataset>\n",
       "Dimensions:    (lat: 192, lon: 288, nbnd: 2, time: 600)\n",
       "Coordinates:\n",
       "  * lat        (lat) float64 -90.0 -89.06 -88.12 -87.17 ... 88.12 89.06 90.0\n",
       "  * lon        (lon) float64 0.0 1.25 2.5 3.75 5.0 ... 355.0 356.2 357.5 358.8\n",
       "  * time       (time) object 0950-01-15 12:00:00 ... 0999-12-15 12:00:00\n",
       "Dimensions without coordinates: nbnd\n",
       "Data variables:\n",
       "    tas        (time, lat, lon) float32 ...\n",
       "    time_bnds  (time, nbnd) object ...\n",
       "    lat_bnds   (lat, nbnd) float64 ...\n",
       "    lon_bnds   (lon, nbnd) float64 ...\n",
       "Attributes:\n",
       "    Conventions:            CF-1.7 CMIP-6.2\n",
       "    activity_id:            CMIP\n",
       "    branch_method:          hybrid\n",
       "    branch_time_in_child:   -182500.0\n",
       "    branch_time_in_parent:  182865.0\n",
       "    case_id:                46\n",
       "    cesm_casename:          b.e21.BCO2x4cmip6.f09_g17.CMIP6-abrupt4xCO2.001\n",
       "    contact:                cesm_cmip6@ucar.edu\n",
       "    creation_date:          2019-09-20T22:44:50Z\n",
       "    data_specs_version:     01.00.31\n",
       "    experiment:             abrupt quadrupling of CO2\n",
       "    experiment_id:          abrupt-4xCO2\n",
       "    external_variables:     areacella\n",
       "    forcing_index:          1\n",
       "    frequency:              mon\n",
       "    further_info_url:       https://furtherinfo.es-doc.org/CMIP6.NCAR.CESM2.a...\n",
       "    grid:                   native 0.9x1.25 finite volume grid (192x288 latxlon)\n",
       "    grid_label:             gn\n",
       "    initialization_index:   1\n",
       "    institution:            National Center for Atmospheric Research, Climate...\n",
       "    institution_id:         NCAR\n",
       "    license:                CMIP6 model data produced by <The National Center...\n",
       "    mip_era:                CMIP6\n",
       "    model_doi_url:          https://doi.org/10.5065/D67H1H0V\n",
       "    nominal_resolution:     100 km\n",
       "    parent_activity_id:     CMIP\n",
       "    parent_experiment_id:   piControl\n",
       "    parent_mip_era:         CMIP6\n",
       "    parent_source_id:       CESM2\n",
       "    parent_time_units:      days since 0001-01-01 00:00:00\n",
       "    parent_variant_label:   r1i1p1f1\n",
       "    physics_index:          1\n",
       "    product:                model-output\n",
       "    realization_index:      1\n",
       "    realm:                  atmos\n",
       "    source:                 CESM2 (2017): atmosphere: CAM6 (0.9x1.25 finite v...\n",
       "    source_id:              CESM2\n",
       "    source_type:            AOGCM BGC AER\n",
       "    sub_experiment:         none\n",
       "    sub_experiment_id:      none\n",
       "    table_id:               Amon\n",
       "    tracking_id:            hdl:21.14100/8fa3756e-9d0b-4d96-815b-dd680e71baa3\n",
       "    variable_id:            tas\n",
       "    variant_info:           CMIP6 CESM2 abrupt4xCO2 experiment with CAM6, int...\n",
       "    variant_label:          r1i1p1f1"
      ]
     },
     "execution_count": 24,
     "metadata": {},
     "output_type": "execute_result"
    }
   ],
   "source": [
    "ds"
   ]
  },
  {
   "cell_type": "code",
   "execution_count": 25,
   "metadata": {},
   "outputs": [
    {
     "data": {
      "text/plain": [
       "(192, 288)"
      ]
     },
     "execution_count": 25,
     "metadata": {},
     "output_type": "execute_result"
    }
   ],
   "source": [
    "layer = ds.tas.sel(time='0999-12-15T12:00:00').squeeze()\n",
    "layer.shape"
   ]
  },
  {
   "cell_type": "markdown",
   "metadata": {},
   "source": [
    "### Let's plot the near-surface air temperature\n",
    "\n",
    "We want to plot the temperature over the whole globe."
   ]
  },
  {
   "cell_type": "code",
   "execution_count": 26,
   "metadata": {},
   "outputs": [
    {
     "data": {
      "image/png": "[encoded data removed]",
      "text/plain": [
       "<Figure size 432x288 with 2 Axes>"
      ]
     },
     "metadata": {
      "needs_background": "light"
     },
     "output_type": "display_data"
    }
   ],
   "source": [
    "import matplotlib.pyplot as plt\n",
    "\n",
    "layer.plot()\n",
    "plt.show()"
   ]
  },
  {
   "cell_type": "markdown",
   "metadata": {},
   "source": [
    "Now we will focus in on Africa using the Plate Carree projection projection, adding in coastlines and borders."
   ]
  },
  {
   "cell_type": "code",
   "execution_count": 27,
   "metadata": {},
   "outputs": [
    {
     "data": {
      "image/png": "[encoded data removed]",
      "text/plain": [
       "<Figure size 432x288 with 2 Axes>"
      ]
     },
     "metadata": {
      "needs_background": "light"
     },
     "output_type": "display_data"
    }
   ],
   "source": [
    "import cartopy.crs as ccrs\n",
    "import cartopy.feature as cfeature\n",
    "\n",
    "fig = plt.figure()\n",
    "ax = fig.add_subplot(1, 1, 1, projection=ccrs.PlateCarree())\n",
    "ax.set_extent([-20, 60, -40, 45], crs=ccrs.PlateCarree())\n",
    "ax.add_feature(cfeature.BORDERS, linestyle=':')\n",
    "ax.coastlines()\n",
    "\n",
    "layer.plot()\n",
    "plt.show()"
   ]
  },
  {
   "cell_type": "markdown",
   "metadata": {},
   "source": [
    "## 5. Accessing data in Group Workspaces\n",
    "\n",
    "On JASMIN, many project share data internally using large disk allocations known as Group Workspaces (GWSs). Your JASMIN Notebook session has _read access_ to any GWSs that you can normally access via an SSH session.\n",
    "\n",
    "For example:"
   ]
  },
  {
   "cell_type": "code",
   "execution_count": null,
   "metadata": {},
   "outputs": [],
   "source": [
    "import pandas as pd\n",
    "\n",
    "fpath = '/gws/nopw/j04/cedaproc/public-data/uk_max_temp.txt'\n",
    "df = pd.read_csv(fpath, sep='\\s+', header=6, index_col='Year')"
   ]
  },
  {
   "cell_type": "markdown",
   "metadata": {},
   "source": [
    "This is a Pandas DataFrame, let's take a look at the first few rows"
   ]
  },
  {
   "cell_type": "code",
   "execution_count": null,
   "metadata": {},
   "outputs": [],
   "source": [
    "df.head(3)"
   ]
  },
  {
   "cell_type": "code",
   "execution_count": null,
   "metadata": {},
   "outputs": [],
   "source": [
    "# Select January and July\n",
    "jj = df.loc[:, ['JAN', 'JUL']]\n",
    "jj.head(5)"
   ]
  },
  {
   "cell_type": "markdown",
   "metadata": {},
   "source": [
    "And we can plot it:"
   ]
  },
  {
   "cell_type": "code",
   "execution_count": null,
   "metadata": {},
   "outputs": [],
   "source": [
    "ax = jj.plot(title='January vs July maximum temp records (degC)')\n",
    "ax.set_ylabel('Max Temp (degC)')"
   ]
  },
  {
   "cell_type": "markdown",
   "metadata": {},
   "source": [
    "## 6. Creating virtual environments to install software\n",
    "\n",
    "The JASMIN Notebook Service provides a _fixed_ Python3 software environment. This will be updated from time to time but may not be as dynamic as some users require.\n",
    "\n",
    "If you need to add extra software to the environment you can do so - using Python's `virtual environments`. Here's how you can do it..."
   ]
  },
  {
   "cell_type": "markdown",
   "metadata": {},
   "source": [
    "### Creating and using a Virtual Environment inside an existing Notebook\n",
    "\n",
    "This Notebook demonstrates how you can use the Python `virtualenv` and `pip` packages to work with a Virtual Environment (`venv`) _inside_ an existing Notebook.\n",
    "\n",
    "There are 3 steps:\n",
    " 1. Create a venv - only required once\n",
    " 2. Activate the venv - required any time you want to use the venv\n",
    " 3. Install extra packages - whenever you need to add a new package\n",
    " \n",
    "**NOTE: these instructions suggest putting all venvs that are used in Notebooks under a `~/nb-venvs/` directory. These venvs will _not_ work if you are logged directly into JASMIN via SSH.**"
   ]
  },
  {
   "cell_type": "markdown",
   "metadata": {},
   "source": [
    "#### Step 1 - create a venv\n",
    "\n",
    "You only need to create a venv once. In this example an `nb-venvs` directory is created inside the `$HOME` directory, and the venv is created inside it."
   ]
  },
  {
   "cell_type": "code",
   "execution_count": null,
   "metadata": {},
   "outputs": [],
   "source": [
    "# Import the required packages\n",
    "import os\n",
    "\n",
    "# Change current working directory to top of the repository: ~/ceda-notebooks/\n",
    "os.chdir('../../..')\n",
    "\n",
    "from scripts.utils import venv_utils\n",
    "\n",
    "# Define the name of the venv to install virtual environments\n",
    "venv_name = 'venv_notebook'"
   ]
  },
  {
   "cell_type": "markdown",
   "metadata": {},
   "source": [
    "Since you only need to create the virtual environment once, the create method will check for it's existence"
   ]
  },
  {
   "cell_type": "code",
   "execution_count": null,
   "metadata": {},
   "outputs": [],
   "source": [
    "# Create the venv\n",
    "venv_utils.create_venv(venv_name=venv_name)"
   ]
  },
  {
   "cell_type": "markdown",
   "metadata": {},
   "source": [
    "#### Step 2 - activate the venv\n",
    "\n",
    "Use the activate method to add the venv to your notebook and use packages installed in the venv."
   ]
  },
  {
   "cell_type": "code",
   "execution_count": null,
   "metadata": {},
   "outputs": [],
   "source": [
    "# Activate the venv\n",
    "venv_utils.activate_venv(venv_name=venv_name)"
   ]
  },
  {
   "cell_type": "markdown",
   "metadata": {},
   "source": [
    "#### Step 3 - install a new package\n",
    "\n",
    "In this case, we install the `fixnc` package from the PyPI repository using the install package method"
   ]
  },
  {
   "cell_type": "code",
   "execution_count": null,
   "metadata": {},
   "outputs": [],
   "source": [
    "# First let's assert that we cannot import `fixnc`\n",
    "try:\n",
    "    import fixnc\n",
    "except ModuleNotFoundError as err:\n",
    "    print('Failed to import \"fixnc\" as expected')"
   ]
  },
  {
   "cell_type": "code",
   "execution_count": null,
   "metadata": {},
   "outputs": [],
   "source": [
    "# Install the package\n",
    "venv_utils.install_package('fixnc', venv_name=venv_name)"
   ]
  },
  {
   "cell_type": "markdown",
   "metadata": {
    "collapsed": false,
    "pycharm": {
     "name": "#%% md\n"
    }
   },
   "source": [
    "If we wanted to install more than one package, the `install_packages` method is more convenient.\n",
    "Put the packages into a list and use the list in the method."
   ]
  },
  {
   "cell_type": "code",
   "execution_count": null,
   "metadata": {
    "collapsed": false,
    "pycharm": {
     "name": "#%%\n"
    }
   },
   "outputs": [],
   "source": [
    "packages = [\"fixnc\"]\n",
    "venv_utils.install_packages(packages=packages, venv_name=venv_name)"
   ]
  },
  {
   "cell_type": "markdown",
   "metadata": {},
   "source": [
    "Demonstrate it works, by importing it and finding out where the module has been installed."
   ]
  },
  {
   "cell_type": "code",
   "execution_count": null,
   "metadata": {},
   "outputs": [],
   "source": [
    "import fixnc\n",
    "print(fixnc.__file__)"
   ]
  },
  {
   "cell_type": "markdown",
   "metadata": {},
   "source": [
    "## 7. Sharing Notebooks\n",
    "\n",
    "When you have produced a useful Notebook, it is a great idea to:\n",
    "1. Put it into a version control system so that it is safe (and versioned)\n",
    "2. Share it with your colleagues and collaborators\n",
    "\n",
    "We recommend using GitHub for this. "
   ]
  },
  {
   "cell_type": "markdown",
   "metadata": {},
   "source": [
    "### Using GitHub repositories to store and share Notebooks\n",
    "\n",
    "GitHub is an awesome website and collection of tools that allows you to manage, release and share code.\n",
    "\n",
    "It uses Git, a distributed version control system, that we thoroughly recommend - see our webinar on the subject:\n",
    "\n",
    "https://www.ceda.ac.uk/events/introduction-to-git-and-github/\n",
    "\n",
    "#### How to get started\n",
    "\n",
    "Firstly, create a GitHub user account:\n",
    "\n",
    "https://github.com/\n",
    "\n",
    "Then create your own repository:\n",
    "\n",
    "https://github.com/new\n",
    "\n",
    "Then _clone_ it locally, which you can even do inside a Notebook (using the exclamation mark to call out to the Linux Shell):"
   ]
  },
  {
   "cell_type": "code",
   "execution_count": null,
   "metadata": {},
   "outputs": [],
   "source": [
    "!git clone https://github.com/agstephens/quick-software-tests ~/quick-software-tests"
   ]
  },
  {
   "cell_type": "markdown",
   "metadata": {},
   "source": [
    "And navigate to that directory in the file navigator on the left-hand bar."
   ]
  },
  {
   "cell_type": "markdown",
   "metadata": {},
   "source": [
    "### Create a Notebook in that directory, or copy one across\n",
    "\n",
    "You can add notebooks into the repository and commit them back to GitHub - and share them with the world!"
   ]
  },
  {
   "cell_type": "code",
   "execution_count": null,
   "metadata": {},
   "outputs": [],
   "source": []
  }
 ],
 "metadata": {
  "kernelspec": {
   "display_name": "Python 3 + Jaspy",
   "language": "python",
   "name": "jaspy"
  },
  "language_info": {
   "codemirror_mode": {
    "name": "ipython",
    "version": 3
   },
   "file_extension": ".py",
   "mimetype": "text/x-python",
   "name": "python",
   "nbconvert_exporter": "python",
   "pygments_lexer": "ipython3",
   "version": "3.7.1"
  }
 },
 "nbformat": 4,
 "nbformat_minor": 4
}
