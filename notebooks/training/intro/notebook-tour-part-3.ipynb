{
 "cells": [
  {
   "cell_type": "markdown",
   "metadata": {},
   "source": [
    "# Introducing the JASMIN Notebook Service\n",
    "\n",
    "In this Notebook, we will discuss:\n",
    "\n",
    "1. What is a Notebook?\n",
    "2. Using Python in the browser \n",
    "3. Plotting in a Notebook\n",
    "4. Working with data in the CEDA Archive\n",
    "5. Accessing data in Group Workspaces\n",
    "6. Creating virtual environments to install additional software\n",
    "7. Sharing Notebooks"
   ]
  },
  {
   "cell_type": "markdown",
   "metadata": {},
   "source": [
    "## 3. Plotting in a Notebook\n",
    "\n",
    "Wouldn't it be great if you could view plots in a Notebook? Well, you can, using `matplotlib` and libraries that interact with it."
   ]
  },
  {
   "cell_type": "code",
   "execution_count": null,
   "metadata": {},
   "outputs": [],
   "source": [
    "import matplotlib.pyplot as plt"
   ]
  },
  {
   "cell_type": "code",
   "execution_count": null,
   "metadata": {},
   "outputs": [],
   "source": [
    "plt.plot(range(10))"
   ]
  },
  {
   "cell_type": "code",
   "execution_count": null,
   "metadata": {},
   "outputs": [],
   "source": []
  }
 ],
 "metadata": {
  "kernelspec": {
   "display_name": "Python 3 + Jaspy",
   "language": "python",
   "name": "jaspy"
  },
  "language_info": {
   "codemirror_mode": {
    "name": "ipython",
    "version": 3
   },
   "file_extension": ".py",
   "mimetype": "text/x-python",
   "name": "python",
   "nbconvert_exporter": "python",
   "pygments_lexer": "ipython3",
   "version": "3.7.1"
  }
 },
 "nbformat": 4,
 "nbformat_minor": 4
}
