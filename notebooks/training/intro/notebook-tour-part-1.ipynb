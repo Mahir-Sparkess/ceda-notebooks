{
 "cells": [
  {
   "cell_type": "markdown",
   "metadata": {},
   "source": [
    "# Introducing the JASMIN Notebook Service\n",
    "\n",
    "In this Notebook, we will discuss:\n",
    "\n",
    "1. What is a Notebook?\n",
    "2. Using Python in the browser \n",
    "3. Plotting in a Notebook\n",
    "4. Working with data in the CEDA Archive\n",
    "5. Accessing data in Group Workspaces\n",
    "6. Creating virtual environments to install additional software\n",
    "7. Sharing Notebooks"
   ]
  },
  {
   "cell_type": "markdown",
   "metadata": {},
   "source": [
    "## 1. What is a Jupyter Notebook?\n",
    "\n",
    "A Notebook is an interactive programming environment that runs in a web-browser. Put simply, a Notebook allows you to:\n",
    "- Define, edit and run code (in Python)\n",
    "- Embed visualisations within your code to demonstrate what it does\n",
    "- Include notes to document your workflow\n",
    "- Share your work with others (e.g. via GitHub)\n",
    "\n",
    "We will demonstrate some Notebook behaviour here, and you will see how they can be used.\n",
    "\n",
    "For more information, see the \"Help\" tab above, or:\n",
    "\n",
    " - JASMIN Notebook Help: https://help.jasmin.ac.uk/article/4851-jasmin-notebook-service#what-is-a-jupyter-notebook\n",
    " - Intro to Jupyter Lab: https://jupyter.org/\n",
    " - Try a Jupyter Lab Notebook in your browser: https://jupyter.org/try\n",
    "   - NOTE: The above is _not_ a JASMIN service."
   ]
  },
  {
   "cell_type": "markdown",
   "metadata": {},
   "source": [
    "### Why use the JASMIN Notebook Service (rather than another)?\n",
    "\n",
    "Many of you will have used Jupyter Notebooks elsewhere. So why use the JASMIN Notebook Service? Here are some reasons why:\n",
    "\n",
    " 1. It uses your JASMIN \"login\" account:\n",
    "   - your `$HOME` directory is the same as an SSH terminal session on JASMIN.\n",
    " 2. You can read the CEDA archive directly:\n",
    "   - `/badc/` and `/neodc` are visible\n",
    "   - you can view the same data sets as you can via an SSH session\n",
    " 3. You can read from Group Workspaces:\n",
    "   - your Notebook can see all Group Workspaces that your JASMIN account has access to\n",
    " 4. The common JASMIN software is available:\n",
    "   - the \"jaspy\" packages are installed in the Python3.7 environment\n",
    "     - see: https://help.jasmin.ac.uk/article/4729-jaspy-envs\n",
    " 5. You can install additional packages to extend your Notebook environments"
   ]
  },
  {
   "cell_type": "markdown",
   "metadata": {},
   "source": [
    "**You can find the JASMIN Notebook Service here:**\n",
    "https://notebooks.jasmin.ac.uk/"
   ]
  }
 ],
 "metadata": {
  "kernelspec": {
   "display_name": "Python 3 + Jaspy",
   "language": "python",
   "name": "jaspy"
  },
  "language_info": {
   "codemirror_mode": {
    "name": "ipython",
    "version": 3
   },
   "file_extension": ".py",
   "mimetype": "text/x-python",
   "name": "python",
   "nbconvert_exporter": "python",
   "pygments_lexer": "ipython3",
   "version": "3.7.1"
  }
 },
 "nbformat": 4,
 "nbformat_minor": 4
}
