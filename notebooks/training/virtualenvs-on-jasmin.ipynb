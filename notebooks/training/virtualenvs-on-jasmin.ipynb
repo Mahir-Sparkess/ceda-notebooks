{
 "cells": [
  {
   "cell_type": "markdown",
   "metadata": {},
   "source": [
    "# Creating and using a Virtual Environment inside an existing Notebook\n",
    "\n",
    "This Notebook demonstrates how you can use the Python `virtualenv` and `pip` packages to work with a Virtual Environment (`venv`) _inside_ an existing Notebook.\n",
    "\n",
    "There are 3 steps:\n",
    " 1. Create a venv - only required once\n",
    " 2. Activate the venv - required any time you want to use the venv\n",
    " 3. Install extra packages - whenever you need to add a new package\n",
    " \n",
    "**NOTE: these instructions suggest putting all venvs that are used in Notebooks under a `~/nb-venvs/` directory. These venvs will _not_ work if you are logged directly into JASMIN via SSH.**"
   ]
  },
  {
   "cell_type": "markdown",
   "metadata": {},
   "source": [
    "## Step 1 - create a venv\n",
    "\n",
    "You only need to create a venv once. In this example an `nb-venvs` directory is created inside the `$HOME` directory, and the venv is created inside it."
   ]
  },
  {
   "cell_type": "code",
   "execution_count": 1,
   "metadata": {},
   "outputs": [],
   "source": [
    "# Import the required packages\n",
    "import os\n",
    "\n",
    "# Change current working directory to top of the repository: ~/ceda-notebooks/\n",
    "os.chdir('../..')\n",
    "\n",
    "# This script allows the ability to create, activate and install into virtual environments.\n",
    "from scripts.utils import venv_utils"
   ]
  },
  {
   "cell_type": "code",
   "execution_count": 2,
   "metadata": {},
   "outputs": [
    {
     "name": "stdout",
     "output_type": "stream",
     "text": [
      "Removing old venv: /home/users/mr1333/nb-venvs/venvs-on-jasmin\n",
      "Making venv venvs-on-jasmin directory in /home/users/mr1333/nb-venvs\n"
     ]
    }
   ],
   "source": [
    "# Define and create the base directory install virtual environments\n",
    "venv_name = \"venvs-on-jasmin\"\n",
    "\n",
    "# Create the venv\n",
    "venv_utils.create_venv(venv_name=venv_name, force_recreate=True)"
   ]
  },
  {
   "cell_type": "markdown",
   "metadata": {},
   "source": [
    "## Step 2 - activate the venv\n",
    "\n",
    "Activation makes use of the `activate_this.py` file within the venv."
   ]
  },
  {
   "cell_type": "code",
   "execution_count": 3,
   "metadata": {},
   "outputs": [
    {
     "name": "stdout",
     "output_type": "stream",
     "text": [
      "Activating virtualenv: venvs-on-jasmin\n"
     ]
    }
   ],
   "source": [
    "# Activate the venv\n",
    "venv_utils.activate_venv(venv_name=venv_name)"
   ]
  },
  {
   "cell_type": "markdown",
   "metadata": {},
   "source": [
    "## Step 3 - install a new package\n",
    "\n",
    "In this case, we install the `fixnc` package from the PyPI repository using the `pip` library."
   ]
  },
  {
   "cell_type": "code",
   "execution_count": 4,
   "metadata": {},
   "outputs": [
    {
     "name": "stdout",
     "output_type": "stream",
     "text": [
      "Failed to import \"fixnc\" as expected\n"
     ]
    }
   ],
   "source": [
    "# First let's assert that we cannot import `fixnc`\n",
    "try:\n",
    "    import fixnc\n",
    "except ModuleNotFoundError as err:\n",
    "    print('Failed to import \"fixnc\" as expected')"
   ]
  },
  {
   "cell_type": "code",
   "execution_count": 5,
   "metadata": {},
   "outputs": [
    {
     "name": "stdout",
     "output_type": "stream",
     "text": [
      "Installing package: fixnc\n"
     ]
    },
    {
     "name": "stderr",
     "output_type": "stream",
     "text": [
      "WARNING: pip is being invoked by an old script wrapper. This will fail in a future version of pip.\n",
      "Please see https://github.com/pypa/pip/issues/5599 for advice on fixing the underlying issue.\n",
      "To avoid this problem you can invoke Python with '-m pip' instead of running pip directly.\n"
     ]
    },
    {
     "name": "stdout",
     "output_type": "stream",
     "text": [
      "Collecting fixnc\n",
      "  Using cached fixnc-0.0.1-py3-none-any.whl\n",
      "Requirement already satisfied: netcdf4>=1.1.8 in /opt/jaspy/lib/python3.8/site-packages (from fixnc) (1.5.6)\n",
      "Collecting sh>=1.11\n",
      "  Using cached sh-1.14.2-py2.py3-none-any.whl (40 kB)\n",
      "Requirement already satisfied: numpy>=1.9 in /opt/jaspy/lib/python3.8/site-packages (from netcdf4>=1.1.8->fixnc) (1.21.3)\n",
      "Requirement already satisfied: cftime in /opt/jaspy/lib/python3.8/site-packages (from netcdf4>=1.1.8->fixnc) (1.5.1)\n",
      "Installing collected packages: sh, fixnc\n",
      "Successfully installed fixnc-0.0.1 sh-1.14.2\n"
     ]
    }
   ],
   "source": [
    "# pip install a package using the venv as a prefix\n",
    "venv_utils.install_package(package='fixnc', venv_name=venv_name)"
   ]
  },
  {
   "cell_type": "code",
   "execution_count": 6,
   "metadata": {},
   "outputs": [
    {
     "data": {
      "text/plain": [
       "\u001b[0;31mType:\u001b[0m        module\n",
       "\u001b[0;31mString form:\u001b[0m <module 'fixnc' from '/home/users/mr1333/nb-venvs/venvs-on-jasmin/lib/python3.8/site-packages/fixnc/__init__.py'>\n",
       "\u001b[0;31mFile:\u001b[0m        ~/nb-venvs/venvs-on-jasmin/lib/python3.8/site-packages/fixnc/__init__.py\n",
       "\u001b[0;31mDocstring:\u001b[0m   <no docstring>\n"
      ]
     },
     "metadata": {},
     "output_type": "display_data"
    }
   ],
   "source": [
    "# Demonstrate it works, by importing and interrogating\n",
    "import fixnc\n",
    "fixnc?\n"
   ]
  }
 ],
 "metadata": {
  "kernelspec": {
   "display_name": "Python 3 + Jaspy",
   "language": "python",
   "name": "jaspy"
  },
  "language_info": {
   "codemirror_mode": {
    "name": "ipython",
    "version": 3
   },
   "file_extension": ".py",
   "mimetype": "text/x-python",
   "name": "python",
   "nbconvert_exporter": "python",
   "pygments_lexer": "ipython3",
   "version": "3.8.12"
  }
 },
 "nbformat": 4,
 "nbformat_minor": 4
}
