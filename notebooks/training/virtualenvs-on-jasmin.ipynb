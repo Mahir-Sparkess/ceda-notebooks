{
 "cells": [
  {
   "cell_type": "markdown",
   "metadata": {},
   "source": [
    "# Creating and using a Virtual Environment inside an existing Notebook\n",
    "\n",
    "This Notebook demonstrates how you can use the Python `virtualenv` and `pip` packages to work with a Virtual Environment (`venv`) _inside_ an existing Notebook.\n",
    "\n",
    "There are 3 steps:\n",
    " 1. Create a venv - only required once\n",
    " 2. Activate the venv - required any time you want to use the venv\n",
    " 3. Install extra packages - whenever you need to add a new package\n",
    " \n",
    "**NOTE: these instructions suggest putting all venvs that are used in Notebooks under a `~/nb-venvs/` directory. These venvs will _not_ work if you are logged directly into JASMIN via SSH.**"
   ]
  },
  {
   "cell_type": "markdown",
   "metadata": {},
   "source": [
    "## Step 1 - create a venv\n",
    "\n",
    "You only need to create a venv once. In this example an `nb-venvs` directory is created inside the `$HOME` directory, and the venv is created inside it."
   ]
  },
  {
   "cell_type": "code",
   "execution_count": 1,
   "metadata": {},
   "outputs": [],
   "source": [
    "# Import the required packages\n",
    "import virtualenv\n",
    "import pip\n",
    "import os\n",
    "\n",
    "# Define and create the base directory install virtual environments\n",
    "venvs_dir = os.path.join(os.path.expanduser(\"~\"), \"nb-venvs\")\n",
    "\n",
    "if not os.path.isdir(venvs_dir):\n",
    "    os.makedirs(venvs_dir)\n",
    "    \n",
    "# Define the venv directory\n",
    "venv_dir = os.path.join(venvs_dir, 'venv-notebook')"
   ]
  },
  {
   "cell_type": "code",
   "execution_count": 9,
   "metadata": {},
   "outputs": [
    {
     "name": "stdout",
     "output_type": "stream",
     "text": [
      "copying /opt/jaspy/bin/python => /home/users/astephen/nb-venvs/venv-notebook/bin/python\n"
     ]
    }
   ],
   "source": [
    "# Create the virtual environment\n",
    "virtualenv.create_environment(venv_dir)"
   ]
  },
  {
   "cell_type": "markdown",
   "metadata": {},
   "source": [
    "## Step 2 - activate the venv\n",
    "\n",
    "Activation makes use of the `activate_this.py` file within the venv."
   ]
  },
  {
   "cell_type": "code",
   "execution_count": 2,
   "metadata": {},
   "outputs": [],
   "source": [
    "# Activate the venv\n",
    "activate_file = os.path.join(venv_dir, \"bin\", \"activate_this.py\")\n",
    "exec(open(activate_file).read(), dict(__file__=activate_file))"
   ]
  },
  {
   "cell_type": "markdown",
   "metadata": {},
   "source": [
    "## Step 3 - install a new package\n",
    "\n",
    "In this case, we install the `fixnc` package from the PyPI repository using the `pip` library."
   ]
  },
  {
   "cell_type": "code",
   "execution_count": null,
   "metadata": {},
   "outputs": [],
   "source": [
    "# First let's assert that we cannot import `fixnc`\n",
    "try:\n",
    "    import fixnc\n",
    "except ModuleNotFoundError as err:\n",
    "    print('Failed to import \"fixnc\" as expected')"
   ]
  },
  {
   "cell_type": "code",
   "execution_count": null,
   "metadata": {},
   "outputs": [],
   "source": [
    "# pip install a package using the venv as a prefix\n",
    "pip.main([\"install\", \"--prefix\", venv_dir, \"fixnc\"])"
   ]
  },
  {
   "cell_type": "code",
   "execution_count": null,
   "metadata": {},
   "outputs": [],
   "source": [
    "# Demonstrate it works, by importing and interrogating\n",
    "import fixnc\n",
    "fixnc?"
   ]
  }
 ],
 "metadata": {
  "kernelspec": {
   "display_name": "Python 3 + Jaspy",
   "language": "python",
   "name": "jaspy"
  },
  "language_info": {
   "codemirror_mode": {
    "name": "ipython",
    "version": 3
   },
   "file_extension": ".py",
   "mimetype": "text/x-python",
   "name": "python",
   "nbconvert_exporter": "python",
   "pygments_lexer": "ipython3",
   "version": "3.7.1"
  }
 },
 "nbformat": 4,
 "nbformat_minor": 4
}
