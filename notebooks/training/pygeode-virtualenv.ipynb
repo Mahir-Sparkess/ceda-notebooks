{
 "cells": [
  {
   "cell_type": "markdown",
   "metadata": {},
   "source": [
    "# Re-runnable virtual environment setup\n",
    "\n",
    "This notebook is a re-runnable set of instructions to set up a virtual environment and install a package `pygeode` into it."
   ]
  },
  {
   "cell_type": "code",
   "execution_count": 2,
   "metadata": {
    "pycharm": {
     "name": "#%%\n"
    }
   },
   "outputs": [],
   "source": [
    "# Import the required packages\n",
    "import sys\n",
    "\n",
    "# Change current working directory to top of the repository: ~/ceda-notebooks/\n",
    "sys.path.append('../..')\n",
    "\n",
    "from scripts.utils import venv_utils\n",
    "\n",
    "# Define the name of your venv you wish to create\n",
    "venv_name = 'venv-notebook'\n",
    "\n",
    "# List all the packages you want to install into a variable:\n",
    "packages = [\n",
    "    \"pygeode\",\n",
    "]\n",
    "\n",
    "# Setup the venv to create, activate and install packages\n",
    "venv_utils.setup_venv(venv_name=venv_name, packages=packages)"
   ]
  }
 ],
 "metadata": {
  "kernelspec": {
   "display_name": "Python 3 + Jaspy",
   "language": "python",
   "name": "jaspy"
  },
  "language_info": {
   "codemirror_mode": {
    "name": "ipython",
    "version": 3
   },
   "file_extension": ".py",
   "mimetype": "text/x-python",
   "name": "python",
   "nbconvert_exporter": "python",
   "pygments_lexer": "ipython3",
   "version": "3.7.1"
  }
 },
 "nbformat": 4,
 "nbformat_minor": 4
}