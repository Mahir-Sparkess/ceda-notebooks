{
 "cells": [
  {
   "cell_type": "markdown",
   "source": [
    "# Re-runnable virtual environment setup\n",
    "\n",
    "This notebook is a re-runnable set of instructions to set up a virtual environment and install a package `pygeode` into it."
   ],
   "metadata": {}
  },
  {
   "cell_type": "code",
   "execution_count": 1,
   "source": [
    "# Import the required packages\n",
    "import os\n",
    "\n",
    "# Change current working directory to top of the repository: ~/ceda-notebooks/\n",
    "if os.getcwd().split('/')[-1] != 'ceda-notebooks':\n",
    "    os.chdir('../..')\n",
    "\n",
    "from scripts.utils import venv_utils\n",
    "\n",
    "# Define the name of your venv you wish to create\n",
    "venv_name = 'venv-notebook'\n",
    "\n",
    "# List all the packages you want to install into a variable:\n",
    "packages = [\n",
    "    \"pygeode\",\n",
    "]\n",
    "\n",
    "# Setup the venv to create, activate and install packages\n",
    "venv_utils.setup_venv(venv_name=venv_name, packages=packages)"
   ],
   "outputs": [
    {
     "output_type": "stream",
     "name": "stdout",
     "text": [
      "Venv already exists: /home/users/mr1333/nb-venvs/venv-notebook\n",
      "force_recreate must be True to recreate a venv\n",
      "Activating virtualenv: venv-notebook\n",
      "Installing package: pygeode\n"
     ]
    },
    {
     "output_type": "stream",
     "name": "stderr",
     "text": [
      "WARNING: pip is being invoked by an old script wrapper. This will fail in a future version of pip.\n",
      "Please see https://github.com/pypa/pip/issues/5599 for advice on fixing the underlying issue.\n",
      "To avoid this problem you can invoke Python with '-m pip' instead of running pip directly.\n"
     ]
    },
    {
     "output_type": "stream",
     "name": "stdout",
     "text": [
      "Requirement already satisfied: pygeode in /opt/jaspy/lib/python3.8/site-packages (1.4.0)\n",
      "Requirement already satisfied: progressbar2 in /opt/jaspy/lib/python3.8/site-packages (from pygeode) (3.55.0)\n",
      "Requirement already satisfied: netcdf4 in /opt/jaspy/lib/python3.8/site-packages (from pygeode) (1.5.6)\n",
      "Requirement already satisfied: scipy in /opt/jaspy/lib/python3.8/site-packages (from pygeode) (1.7.1)\n",
      "Requirement already satisfied: numpy in /opt/jaspy/lib/python3.8/site-packages (from pygeode) (1.21.3)\n",
      "Requirement already satisfied: matplotlib in /opt/jaspy/lib/python3.8/site-packages (from pygeode) (3.4.3)\n",
      "Requirement already satisfied: python-dateutil>=2.7 in /opt/jaspy/lib/python3.8/site-packages (from matplotlib->pygeode) (2.8.2)\n",
      "Requirement already satisfied: kiwisolver>=1.0.1 in /opt/jaspy/lib/python3.8/site-packages (from matplotlib->pygeode) (1.3.2)\n",
      "Requirement already satisfied: pillow>=6.2.0 in /opt/jaspy/lib/python3.8/site-packages (from matplotlib->pygeode) (8.4.0)\n",
      "Requirement already satisfied: cycler>=0.10 in /opt/jaspy/lib/python3.8/site-packages (from matplotlib->pygeode) (0.10.0)\n",
      "Requirement already satisfied: pyparsing>=2.2.1 in /opt/jaspy/lib/python3.8/site-packages (from matplotlib->pygeode) (2.4.7)\n",
      "Requirement already satisfied: cftime in /opt/jaspy/lib/python3.8/site-packages (from netcdf4->pygeode) (1.5.1)\n",
      "Requirement already satisfied: six in /opt/jaspy/lib/python3.8/site-packages (from progressbar2->pygeode) (1.16.0)\n",
      "Requirement already satisfied: python-utils>=2.3.0 in /opt/jaspy/lib/python3.8/site-packages (from progressbar2->pygeode) (2.5.6)\n"
     ]
    }
   ],
   "metadata": {
    "pycharm": {
     "name": "#%%\n"
    }
   }
  },
  {
   "cell_type": "code",
   "execution_count": 2,
   "source": [
    "import pygeode\n",
    "?pygeode"
   ],
   "outputs": [
    {
     "output_type": "display_data",
     "data": {
      "text/plain": [
       "\u001b[0;31mType:\u001b[0m        module\n",
       "\u001b[0;31mString form:\u001b[0m <module 'pygeode' from '/opt/jaspy/lib/python3.8/site-packages/pygeode/__init__.py'>\n",
       "\u001b[0;31mFile:\u001b[0m        /opt/jaspy/lib/python3.8/site-packages/pygeode/__init__.py\n",
       "\u001b[0;31mDocstring:\u001b[0m   <no docstring>\n"
      ]
     },
     "metadata": {}
    }
   ],
   "metadata": {}
  },
  {
   "cell_type": "code",
   "execution_count": null,
   "source": [],
   "outputs": [],
   "metadata": {}
  }
 ],
 "metadata": {
  "kernelspec": {
   "display_name": "Python 3 + Jaspy",
   "language": "python",
   "name": "jaspy"
  },
  "language_info": {
   "codemirror_mode": {
    "name": "ipython",
    "version": 3
   },
   "file_extension": ".py",
   "mimetype": "text/x-python",
   "name": "python",
   "nbconvert_exporter": "python",
   "pygments_lexer": "ipython3",
   "version": "3.8.12"
  }
 },
 "nbformat": 4,
 "nbformat_minor": 4
}