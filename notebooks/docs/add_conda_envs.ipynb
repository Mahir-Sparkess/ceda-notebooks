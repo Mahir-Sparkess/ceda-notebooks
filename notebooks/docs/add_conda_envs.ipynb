{
 "cells": [
  {
   "cell_type": "markdown",
   "metadata": {},
   "source": [
    "# Create your own (conda) software environments for use with the Notebook Service\n",
    "\n",
    "This Notebook demonstrates how you can create your own software environments using `conda`. You can install packages of your own choice and then add the environment to a local directory that will allow you to select it for _new_ Notebooks and/or Consoles.\n",
    "\n",
    "**NOTE: You must open a new Notebook or Console before you can work in the new environment.**"
   ]
  },
  {
   "cell_type": "markdown",
   "metadata": {},
   "source": [
    "## Create the environment: nbenv1\n",
    "\n",
    "This process calls out to the shell using the `!` operator before each command. The `conda` command is used to create, populate and then install the new environment as a Jupyter _kernel_.\n",
    "\n",
    "The new environment will be called: `nbenv1`\n",
    "\n",
    "It will have the following packages installed:\n",
    "- `netCDF4`\n",
    "- `numpy`"
   ]
  },
  {
   "cell_type": "code",
   "execution_count": null,
   "metadata": {},
   "outputs": [],
   "source": [
    "# Create the conda environment, in this case add the required packages on the command-line\n",
    "!conda create -y --name nbenv1 netCDF4 numpy"
   ]
  },
  {
   "cell_type": "markdown",
   "metadata": {},
   "source": [
    "Once completed, the above command will have created a `conda` environment under your `$HOME` directory at:\n",
    "```\n",
    "~/.conda/envs/nbenv1\n",
    "```"
   ]
  },
  {
   "cell_type": "code",
   "execution_count": null,
   "metadata": {},
   "outputs": [],
   "source": [
    "# Install the \"ipykernel\" library into the environment. This is required in order to make Jupyter aware of the environment.\n",
    "!conda install -y -n nbenv1 ipykernel"
   ]
  },
  {
   "cell_type": "code",
   "execution_count": null,
   "metadata": {},
   "outputs": [],
   "source": [
    "# Install the environment as an \"ipykernel\" so that the Notebook Service will find it.\n",
    "!conda run -n nbenv1 python -m ipykernel install --user --name nbenv1"
   ]
  },
  {
   "cell_type": "markdown",
   "metadata": {},
   "source": [
    "The above command creates the `nbenv1` kernel file under your `$HOME` directory, at: \n",
    "```\n",
    "~/.local/share/jupyter/kernels/nbenv1\n",
    "```"
   ]
  },
  {
   "cell_type": "markdown",
   "metadata": {},
   "source": [
    "**Now, start a new Notebook or Console and you will see that `nbenv1` is given as kernel option. You can now use it :-)**"
   ]
  },
  {
   "cell_type": "markdown",
   "metadata": {},
   "source": [
    "## Installing more packages\n",
    "\n",
    "If you wish to install more packages, you can do so with the `conda install` command, e.g.:"
   ]
  },
  {
   "cell_type": "code",
   "execution_count": null,
   "metadata": {},
   "outputs": [],
   "source": [
    "!conda install -y -n nbenv1 xarray=0.16.2"
   ]
  },
  {
   "cell_type": "markdown",
   "metadata": {},
   "source": [
    "## Creating an environment from a recipe file\n",
    "\n",
    "Conda allows you to create an environment from a single file that specifies all the required packages. Instructions can be found here:\n",
    "\n",
    "https://docs.conda.io/projects/conda/en/latest/user-guide/tasks/manage-environments.html#creating-an-environment-from-an-environment-yml-file"
   ]
  }
 ],
 "metadata": {
  "kernelspec": {
   "display_name": "Python 3 + Jaspy",
   "language": "python",
   "name": "jaspy"
  },
  "language_info": {
   "codemirror_mode": {
    "name": "ipython",
    "version": 3
   },
   "file_extension": ".py",
   "mimetype": "text/x-python",
   "name": "python",
   "nbconvert_exporter": "python",
   "pygments_lexer": "ipython3",
   "version": "3.7.1"
  }
 },
 "nbformat": 4,
 "nbformat_minor": 4
}
