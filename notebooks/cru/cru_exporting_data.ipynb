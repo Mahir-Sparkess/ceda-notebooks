{
 "cells": [
  {
   "cell_type": "markdown",
   "metadata": {},
   "source": [
    "# Python example for Climatic Research Unit (CRU) time-series (TS) data"
   ]
  },
  {
   "cell_type": "markdown",
   "metadata": {},
   "source": [
    "## CRU TS data\n",
    "\n",
    "The following guide will assist with the visualisation of the Climatic Research Unit (CRU) gridded time-series (TS) dataset. For more information on this data, or to understand the ways in which it can be downloaded, please see the CEDA CRU data user guide."
   ]
  },
  {
   "cell_type": "code",
   "execution_count": 14,
   "metadata": {},
   "outputs": [],
   "source": [
    "venv_dir = venvs_dir = os.path.join(os.path.expanduser(\"~\"), \"nb-venvs\",\"venv-notebook\")"
   ]
  },
  {
   "cell_type": "code",
   "execution_count": 15,
   "metadata": {},
   "outputs": [],
   "source": [
    "# Activate the venv\n",
    "activate_file = os.path.join(venv_dir, \"bin\", \"activate_this.py\")\n",
    "exec(open(activate_file).read(), dict(__file__=activate_file))"
   ]
  },
  {
   "cell_type": "code",
   "execution_count": 24,
   "metadata": {},
   "outputs": [],
   "source": [
    "import netCDF4\n",
    "import numpy as np\n",
    "import import_ipynb\n",
    "import cru_data_manipulation"
   ]
  },
  {
   "cell_type": "markdown",
   "metadata": {},
   "source": [
    "### Exporting and saving subsets of data"
   ]
  },
  {
   "cell_type": "markdown",
   "metadata": {},
   "source": [
    "This section will explain some methods of exporting subsets of data you have created so you can plot that data or save it for something else."
   ]
  },
  {
   "cell_type": "markdown",
   "metadata": {},
   "source": [
    "##### 1. Saving data to a NetCDF file"
   ]
  },
  {
   "cell_type": "markdown",
   "metadata": {},
   "source": [
    "We have previously calculated a global temperature anomaly subset, where the values in 2017 are compared to a reference period (1961-1990). For this subset, the temperature data is a function of latitude and longitude. We are going to save it in a NetCDF file."
   ]
  },
  {
   "cell_type": "markdown",
   "metadata": {},
   "source": [
    "Firstly, we have to create the netcdf file and ensure we can write to it. This is done using the code below."
   ]
  },
  {
   "cell_type": "code",
   "execution_count": 20,
   "metadata": {},
   "outputs": [],
   "source": [
    "ncfile =  netCDF4.Dataset('global_temp_anomaly_2017.nc', mode='w',format='NETCDF4_CLASSIC')"
   ]
  },
  {
   "cell_type": "markdown",
   "metadata": {},
   "source": [
    "Next we set up the dimensions. The code below gives each a name and a size. The CRU data has a high resolution (0.5x0.5 degree) and so these values are double what is normally expected for the globe (180 latitude values and 360 longitude). This can be identified by printing the length of the latitude and longitude variables set originally."
   ]
  },
  {
   "cell_type": "code",
   "execution_count": 21,
   "metadata": {},
   "outputs": [],
   "source": [
    "lat_dim = ncfile.createDimension('lat', 360)\n",
    "lon_dim = ncfile.createDimension('lon', 720)"
   ]
  },
  {
   "cell_type": "markdown",
   "metadata": {},
   "source": [
    "We can add certain metadata to our netcdf file to make it more informative. This is useful if we pass the data to someone else or use it after a long time. The below code is just adding a title to the data. There are lots of other details that can be added."
   ]
  },
  {
   "cell_type": "code",
   "execution_count": 22,
   "metadata": {},
   "outputs": [],
   "source": [
    "ncfile.title = 'CRU TS v4.02 Global temperature anomaly for 2017 (wrt 1961-1990)'"
   ]
  },
  {
   "cell_type": "markdown",
   "metadata": {},
   "source": [
    "Next we add variables. We need latitude, longitude and temperature. For each it is required we add a unit and standard name. When creating the variable we give it a name, datatype and shape. The shapes are specified using the dimension names. We can then print a variable to check it looks correct. "
   ]
  },
  {
   "cell_type": "code",
   "execution_count": 25,
   "metadata": {},
   "outputs": [
    {
     "name": "stdout",
     "output_type": "stream",
     "text": [
      "<class 'netCDF4._netCDF4.Variable'>\n",
      "float64 tmp(lat, lon)\n",
      "    units: K\n",
      "    standard_name: air_temperature\n",
      "unlimited dimensions: \n",
      "current shape = (360, 720)\n",
      "filling on, default _FillValue of 9.969209968386869e+36 used\n",
      "\n"
     ]
    }
   ],
   "source": [
    "lat_var = ncfile.createVariable('lat',np.float32,('lat',))\n",
    "lat_var.units = 'degrees_north'\n",
    "lat_var.standard_name = 'latitude'\n",
    "\n",
    "lon_var = ncfile.createVariable('lon', np.float32, ('lon',))\n",
    "lon_var.units = 'degrees_east'\n",
    "lon_var.standard_name = 'longitude'\n",
    "\n",
    "temp_var = ncfile.createVariable('tmp', np.float, ('lat','lon'))\n",
    "temp_var.units = 'K'\n",
    "temp_var.standard_name = 'air_temperature'\n",
    "print(temp_var)"
   ]
  },
  {
   "cell_type": "markdown",
   "metadata": {},
   "source": [
    "Lastly, we assign data to each variable and close the netcdf file."
   ]
  },
  {
   "cell_type": "code",
   "execution_count": 26,
   "metadata": {},
   "outputs": [],
   "source": [
    "lat_var[:] = cru_data_manipulation.lat\n",
    "lon_var[:] = cru_data_manipulation.lon\n",
    "temp_var[:,:] = cru_data_manipulation.temp_2017_anom"
   ]
  },
  {
   "cell_type": "code",
   "execution_count": 27,
   "metadata": {},
   "outputs": [],
   "source": [
    "ncfile.close()"
   ]
  },
  {
   "cell_type": "markdown",
   "metadata": {},
   "source": [
    "The Linux command below is printing the metadata from our new netcdf file to make sure it has all gone in as expected."
   ]
  },
  {
   "cell_type": "code",
   "execution_count": 28,
   "metadata": {},
   "outputs": [
    {
     "name": "stdout",
     "output_type": "stream",
     "text": [
      "netcdf global_temp_anomaly_2017 {\n",
      "dimensions:\n",
      "\tlat = 360 ;\n",
      "\tlon = 720 ;\n",
      "variables:\n",
      "\tfloat lat(lat) ;\n",
      "\t\tlat:units = \"degrees_north\" ;\n",
      "\t\tlat:standard_name = \"latitude\" ;\n",
      "\tfloat lon(lon) ;\n",
      "\t\tlon:units = \"degrees_east\" ;\n",
      "\t\tlon:standard_name = \"longitude\" ;\n",
      "\tdouble tmp(lat, lon) ;\n",
      "\t\ttmp:units = \"K\" ;\n",
      "\t\ttmp:standard_name = \"air_temperature\" ;\n",
      "\n",
      "// global attributes:\n",
      "\t\t:title = \"CRU TS v4.02 Global temperature anomaly for 2017 (wrt 1961-1990)\" ;\n",
      "}\n"
     ]
    }
   ],
   "source": [
    "!ncdump -h global_temp_anomaly_2017.nc"
   ]
  },
  {
   "cell_type": "markdown",
   "metadata": {},
   "source": [
    "##### 2. Exporting a spatial subset"
   ]
  },
  {
   "cell_type": "markdown",
   "metadata": {},
   "source": [
    "Now we are going to export the spatial subset we created earlier. This was precipitation data subset specifically for the European region and sliced for 1 month. "
   ]
  },
  {
   "cell_type": "code",
   "execution_count": 31,
   "metadata": {},
   "outputs": [],
   "source": [
    "import csv\n",
    "\n",
    "with open('cru_pre_eu_01-1901.csv', 'w', newline='') as csvfile:\n",
    "    writer = csv.writer(csvfile, delimiter=',')\n",
    "    writer.writerows(cru_data_manipulation.rain_eu)"
   ]
  },
  {
   "cell_type": "markdown",
   "metadata": {},
   "source": [
    "##### 3. Exporting a temporal subset"
   ]
  },
  {
   "cell_type": "markdown",
   "metadata": {},
   "source": [
    "Now we are going to export the temporal subset subset we created earlier. This was precipitation data subset specifically for 2017 (Jan-Dec) for the whole globe. An average was calculated."
   ]
  },
  {
   "cell_type": "markdown",
   "metadata": {},
   "source": [
    "The code below is the same as before - to save data to a csv file."
   ]
  },
  {
   "cell_type": "code",
   "execution_count": 30,
   "metadata": {},
   "outputs": [],
   "source": [
    "with open('cru_pre_2017_average.csv', 'w', newline='') as csvfile:\n",
    "    writer = csv.writer(csvfile, delimiter=',')\n",
    "    writer.writerows(cru_data_manipulation.rain_2017)"
   ]
  },
  {
   "cell_type": "code",
   "execution_count": null,
   "metadata": {},
   "outputs": [],
   "source": []
  }
 ],
 "metadata": {
  "kernelspec": {
   "display_name": "Python 3 + Jaspy",
   "language": "python",
   "name": "jaspy"
  },
  "language_info": {
   "codemirror_mode": {
    "name": "ipython",
    "version": 3
   },
   "file_extension": ".py",
   "mimetype": "text/x-python",
   "name": "python",
   "nbconvert_exporter": "python",
   "pygments_lexer": "ipython3",
   "version": "3.7.1"
  }
 },
 "nbformat": 4,
 "nbformat_minor": 4
}
