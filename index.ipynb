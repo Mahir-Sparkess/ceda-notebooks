{
 "cells": [
  {
   "cell_type": "code",
   "execution_count": 5,
   "metadata": {},
   "outputs": [
    {
     "name": "stdout",
     "output_type": "stream",
     "text": [
      "Making venvs dir: /home/users/astephen/nb-venvs\n",
      "Making venv in: /home/users/astephen/nb-venvs\n",
      "copying /opt/jaspy/bin/python => /home/users/astephen/nb-venvs/ipy-venv/bin/python\n",
      "Activating virtualenv: ipy-venv\n",
      "Installing packages: ['ipywidgets', 'simplejson', 'jupyter', 'notebook', 'pandas', 'tabulate']\n"
     ]
    },
    {
     "name": "stderr",
     "output_type": "stream",
     "text": [
      "WARNING: pip is being invoked by an old script wrapper. This will fail in a future version of pip.\n",
      "Please see https://github.com/pypa/pip/issues/5599 for advice on fixing the underlying issue.\n",
      "To avoid this problem you can invoke Python with '-m pip' instead of running pip directly.\n"
     ]
    },
    {
     "name": "stdout",
     "output_type": "stream",
     "text": [
      "Collecting ipywidgets\n",
      "  Using cached ipywidgets-7.6.3-py2.py3-none-any.whl (121 kB)\n",
      "Requirement already satisfied: ipython>=4.0.0 in /opt/jaspy/lib/python3.7/site-packages (from ipywidgets) (7.2.0)\n",
      "Requirement already satisfied: ipykernel>=4.5.1 in /opt/jaspy/lib/python3.7/site-packages (from ipywidgets) (5.4.2)\n",
      "Requirement already satisfied: traitlets>=4.3.1 in /opt/jaspy/lib/python3.7/site-packages (from ipywidgets) (4.3.2)\n",
      "Requirement already satisfied: jupyter-client in /opt/jaspy/lib/python3.7/site-packages (from ipykernel>=4.5.1->ipywidgets) (6.1.11)\n",
      "Requirement already satisfied: tornado>=4.2 in /opt/jaspy/lib/python3.7/site-packages (from ipykernel>=4.5.1->ipywidgets) (5.1.1)\n",
      "Requirement already satisfied: setuptools>=18.5 in /home/users/astephen/nb-venvs/ipy-venv/lib/python3.7/site-packages (from ipython>=4.0.0->ipywidgets) (39.1.0)\n",
      "Requirement already satisfied: jedi>=0.10 in /opt/jaspy/lib/python3.7/site-packages (from ipython>=4.0.0->ipywidgets) (0.13.2)\n",
      "Requirement already satisfied: decorator in /opt/jaspy/lib/python3.7/site-packages (from ipython>=4.0.0->ipywidgets) (4.3.0)\n",
      "Requirement already satisfied: pickleshare in /opt/jaspy/lib/python3.7/site-packages (from ipython>=4.0.0->ipywidgets) (0.7.5)\n",
      "Requirement already satisfied: prompt_toolkit<2.1.0,>=2.0.0 in /opt/jaspy/lib/python3.7/site-packages (from ipython>=4.0.0->ipywidgets) (2.0.7)\n",
      "Requirement already satisfied: pygments in /opt/jaspy/lib/python3.7/site-packages (from ipython>=4.0.0->ipywidgets) (2.3.1)\n",
      "Requirement already satisfied: backcall in /opt/jaspy/lib/python3.7/site-packages (from ipython>=4.0.0->ipywidgets) (0.1.0)\n",
      "Requirement already satisfied: pexpect in /opt/jaspy/lib/python3.7/site-packages (from ipython>=4.0.0->ipywidgets) (4.6.0)\n",
      "Requirement already satisfied: parso>=0.3.0 in /opt/jaspy/lib/python3.7/site-packages (from jedi>=0.10->ipython>=4.0.0->ipywidgets) (0.3.1)\n",
      "Collecting jupyterlab-widgets>=1.0.0\n",
      "  Using cached jupyterlab_widgets-1.0.0-py3-none-any.whl (243 kB)\n",
      "Collecting nbformat>=4.2.0\n",
      "  Using cached nbformat-5.1.3-py3-none-any.whl (178 kB)\n",
      "Requirement already satisfied: jupyter-core in /opt/jaspy/lib/python3.7/site-packages (from nbformat>=4.2.0->ipywidgets) (4.7.0)\n",
      "Requirement already satisfied: ipython-genutils in /opt/jaspy/lib/python3.7/site-packages (from nbformat>=4.2.0->ipywidgets) (0.2.0)\n",
      "Collecting jsonschema!=2.5.0,>=2.4\n",
      "  Using cached jsonschema-3.2.0-py2.py3-none-any.whl (56 kB)\n",
      "Requirement already satisfied: six>=1.11.0 in /opt/jaspy/lib/python3.7/site-packages (from jsonschema!=2.5.0,>=2.4->nbformat>=4.2.0->ipywidgets) (1.12.0)\n",
      "Requirement already satisfied: attrs>=17.4.0 in /opt/jaspy/lib/python3.7/site-packages (from jsonschema!=2.5.0,>=2.4->nbformat>=4.2.0->ipywidgets) (18.2.0)\n",
      "Requirement already satisfied: wcwidth in /opt/jaspy/lib/python3.7/site-packages (from prompt_toolkit<2.1.0,>=2.0.0->ipython>=4.0.0->ipywidgets) (0.1.7)\n",
      "Collecting pyrsistent>=0.14.0\n",
      "  Downloading pyrsistent-0.18.0-cp37-cp37m-manylinux1_x86_64.whl (119 kB)\n",
      "Collecting widgetsnbextension~=3.5.0\n",
      "  Using cached widgetsnbextension-3.5.1-py2.py3-none-any.whl (2.2 MB)\n",
      "Collecting notebook>=4.4.1\n",
      "  Using cached notebook-6.4.0-py3-none-any.whl (9.5 MB)\n",
      "Requirement already satisfied: pyzmq>=17 in /opt/jaspy/lib/python3.7/site-packages (from notebook>=4.4.1->widgetsnbextension~=3.5.0->ipywidgets) (17.1.2)\n",
      "Requirement already satisfied: jinja2 in /opt/jaspy/lib/python3.7/site-packages (from notebook>=4.4.1->widgetsnbextension~=3.5.0->ipywidgets) (2.10)\n",
      "Requirement already satisfied: python-dateutil>=2.1 in /opt/jaspy/lib/python3.7/site-packages (from jupyter-client->ipykernel>=4.5.1->ipywidgets) (2.7.5)\n",
      "Collecting Send2Trash>=1.5.0\n",
      "  Using cached Send2Trash-1.7.1-py3-none-any.whl (17 kB)\n",
      "Collecting terminado>=0.8.3\n",
      "  Using cached terminado-0.10.1-py3-none-any.whl (14 kB)\n",
      "Requirement already satisfied: ptyprocess in /opt/jaspy/lib/python3.7/site-packages (from terminado>=0.8.3->notebook>=4.4.1->widgetsnbextension~=3.5.0->ipywidgets) (0.6.0)\n",
      "Collecting tornado>=4.2\n",
      "  Using cached tornado-6.1-cp37-cp37m-manylinux2010_x86_64.whl (428 kB)\n",
      "Collecting argon2-cffi\n",
      "  Using cached argon2_cffi-20.1.0-cp35-abi3-manylinux1_x86_64.whl (97 kB)\n",
      "Requirement already satisfied: cffi>=1.0.0 in /opt/jaspy/lib/python3.7/site-packages (from argon2-cffi->notebook>=4.4.1->widgetsnbextension~=3.5.0->ipywidgets) (1.11.5)\n",
      "Requirement already satisfied: pycparser in /opt/jaspy/lib/python3.7/site-packages (from cffi>=1.0.0->argon2-cffi->notebook>=4.4.1->widgetsnbextension~=3.5.0->ipywidgets) (2.19)\n",
      "Collecting importlib-metadata\n",
      "  Downloading importlib_metadata-4.6.1-py3-none-any.whl (17 kB)\n",
      "Collecting typing-extensions>=3.6.4\n",
      "  Using cached typing_extensions-3.10.0.0-py3-none-any.whl (26 kB)\n",
      "Collecting zipp>=0.5\n",
      "  Downloading zipp-3.5.0-py3-none-any.whl (5.7 kB)\n",
      "Requirement already satisfied: MarkupSafe>=0.23 in /opt/jaspy/lib/python3.7/site-packages (from jinja2->notebook>=4.4.1->widgetsnbextension~=3.5.0->ipywidgets) (1.1.0)\n",
      "Collecting nbconvert\n",
      "  Using cached nbconvert-6.1.0-py3-none-any.whl (551 kB)\n",
      "Collecting entrypoints>=0.2.2\n",
      "  Using cached entrypoints-0.3-py2.py3-none-any.whl (11 kB)\n",
      "Collecting mistune<2,>=0.8.1\n",
      "  Using cached mistune-0.8.4-py2.py3-none-any.whl (16 kB)\n",
      "Collecting nbclient<0.6.0,>=0.5.0\n",
      "  Using cached nbclient-0.5.3-py3-none-any.whl (82 kB)\n",
      "Collecting pandocfilters>=1.4.1\n",
      "  Using cached pandocfilters-1.4.3-py3-none-any.whl\n",
      "Collecting pygments\n",
      "  Using cached Pygments-2.9.0-py3-none-any.whl (1.0 MB)\n",
      "Collecting traitlets>=4.3.1\n",
      "  Using cached traitlets-5.0.5-py3-none-any.whl (100 kB)\n",
      "Collecting async-generator\n",
      "  Using cached async_generator-1.10-py3-none-any.whl (18 kB)\n",
      "Collecting bleach\n",
      "  Using cached bleach-3.3.0-py2.py3-none-any.whl (283 kB)\n",
      "Requirement already satisfied: packaging in /opt/jaspy/lib/python3.7/site-packages (from bleach->nbconvert->notebook>=4.4.1->widgetsnbextension~=3.5.0->ipywidgets) (18.0)\n",
      "Collecting defusedxml\n",
      "  Using cached defusedxml-0.7.1-py2.py3-none-any.whl (25 kB)\n",
      "Collecting jupyterlab-pygments\n",
      "  Using cached jupyterlab_pygments-0.1.2-py2.py3-none-any.whl (4.6 kB)\n",
      "Collecting nest-asyncio\n",
      "  Using cached nest_asyncio-1.5.1-py3-none-any.whl (5.0 kB)\n",
      "Requirement already satisfied: pyparsing>=2.0.2 in /opt/jaspy/lib/python3.7/site-packages (from packaging->bleach->nbconvert->notebook>=4.4.1->widgetsnbextension~=3.5.0->ipywidgets) (2.3.0)\n",
      "Collecting prometheus-client\n",
      "  Using cached prometheus_client-0.11.0-py2.py3-none-any.whl (56 kB)\n",
      "Collecting testpath\n",
      "  Using cached testpath-0.5.0-py3-none-any.whl (84 kB)\n",
      "Collecting webencodings\n",
      "  Using cached webencodings-0.5.1-py2.py3-none-any.whl (11 kB)\n",
      "Installing collected packages: zipp, typing-extensions, traitlets, pyrsistent, importlib-metadata, tornado, jsonschema, webencodings, pygments, nest-asyncio, nbformat, async-generator, testpath, pandocfilters, nbclient, mistune, jupyterlab-pygments, entrypoints, defusedxml, bleach, terminado, Send2Trash, prometheus-client, nbconvert, argon2-cffi, notebook, widgetsnbextension, jupyterlab-widgets, ipywidgets\n",
      "  Attempting uninstall: traitlets\n",
      "    Found existing installation: traitlets 4.3.2\n"
     ]
    },
    {
     "name": "stderr",
     "output_type": "stream",
     "text": [
      "    WARNING: Could not access 'pyvenv.cfg' despite a virtual environment being active. Assuming global site-packages is not accessible in this environment.\n"
     ]
    },
    {
     "name": "stdout",
     "output_type": "stream",
     "text": [
      "    Not uninstalling traitlets at /opt/jaspy/lib/python3.7/site-packages, outside environment /home/users/astephen/nb-venvs/ipy-venv\n",
      "    Can't uninstall 'traitlets'. No files were found to uninstall.\n",
      "  Attempting uninstall: tornado\n",
      "    Found existing installation: tornado 5.1.1\n"
     ]
    },
    {
     "name": "stderr",
     "output_type": "stream",
     "text": [
      "    WARNING: Could not access 'pyvenv.cfg' despite a virtual environment being active. Assuming global site-packages is not accessible in this environment.\n"
     ]
    },
    {
     "name": "stdout",
     "output_type": "stream",
     "text": [
      "    Not uninstalling tornado at /opt/jaspy/lib/python3.7/site-packages, outside environment /home/users/astephen/nb-venvs/ipy-venv\n",
      "    Can't uninstall 'tornado'. No files were found to uninstall.\n",
      "  Attempting uninstall: pygments\n",
      "    Found existing installation: Pygments 2.3.1\n"
     ]
    },
    {
     "name": "stderr",
     "output_type": "stream",
     "text": [
      "    WARNING: Could not access 'pyvenv.cfg' despite a virtual environment being active. Assuming global site-packages is not accessible in this environment.\n"
     ]
    },
    {
     "name": "stdout",
     "output_type": "stream",
     "text": [
      "    Not uninstalling pygments at /opt/jaspy/lib/python3.7/site-packages, outside environment /home/users/astephen/nb-venvs/ipy-venv\n",
      "    Can't uninstall 'Pygments'. No files were found to uninstall.\n",
      "Successfully installed Send2Trash-1.7.1 argon2-cffi-20.1.0 async-generator-1.10 bleach-3.3.0 defusedxml-0.7.1 entrypoints-0.3 importlib-metadata-4.6.1 ipywidgets-7.6.3 jsonschema-3.2.0 jupyterlab-pygments-0.1.2 jupyterlab-widgets-1.0.0 mistune-0.8.4 nbclient-0.5.3 nbconvert-6.1.0 nbformat-5.1.3 nest-asyncio-1.5.1 notebook-6.4.0 pandocfilters-1.4.3 prometheus-client-0.11.0 pygments-2.9.0 pyrsistent-0.18.0 terminado-0.10.1 testpath-0.5.0 tornado-6.1 traitlets-5.0.5 typing-extensions-3.10.0.0 webencodings-0.5.1 widgetsnbextension-3.5.1 zipp-3.5.0\n"
     ]
    },
    {
     "name": "stderr",
     "output_type": "stream",
     "text": [
      "WARNING: You are using pip version 10.0.1; however, version 21.1.3 is available.\n",
      "You should consider upgrading via the '/opt/jaspy/bin/python -m pip install --upgrade pip' command.\n",
      "WARNING: pip is being invoked by an old script wrapper. This will fail in a future version of pip.\n",
      "Please see https://github.com/pypa/pip/issues/5599 for advice on fixing the underlying issue.\n",
      "To avoid this problem you can invoke Python with '-m pip' instead of running pip directly.\n"
     ]
    },
    {
     "name": "stdout",
     "output_type": "stream",
     "text": [
      "Requirement already satisfied: simplejson in /opt/jaspy/lib/python3.7/site-packages (3.17.2)\n"
     ]
    },
    {
     "name": "stderr",
     "output_type": "stream",
     "text": [
      "WARNING: You are using pip version 10.0.1; however, version 21.1.3 is available.\n",
      "You should consider upgrading via the '/opt/jaspy/bin/python -m pip install --upgrade pip' command.\n",
      "WARNING: pip is being invoked by an old script wrapper. This will fail in a future version of pip.\n",
      "Please see https://github.com/pypa/pip/issues/5599 for advice on fixing the underlying issue.\n",
      "To avoid this problem you can invoke Python with '-m pip' instead of running pip directly.\n"
     ]
    },
    {
     "name": "stdout",
     "output_type": "stream",
     "text": [
      "Collecting jupyter\n",
      "  Using cached jupyter-1.0.0-py2.py3-none-any.whl (2.7 kB)\n",
      "Requirement already satisfied: ipykernel in /opt/jaspy/lib/python3.7/site-packages (from jupyter) (5.4.2)\n",
      "Requirement already satisfied: ipython>=5.0.0 in /opt/jaspy/lib/python3.7/site-packages (from ipykernel->jupyter) (7.2.0)\n",
      "Requirement already satisfied: jupyter-client in /opt/jaspy/lib/python3.7/site-packages (from ipykernel->jupyter) (6.1.11)\n",
      "Requirement already satisfied: traitlets>=4.1.0 in /opt/jaspy/lib/python3.7/site-packages (from ipykernel->jupyter) (4.3.2)\n",
      "Requirement already satisfied: tornado>=4.2 in /opt/jaspy/lib/python3.7/site-packages (from ipykernel->jupyter) (5.1.1)\n",
      "Requirement already satisfied: setuptools>=18.5 in /home/users/astephen/nb-venvs/ipy-venv/lib/python3.7/site-packages (from ipython>=5.0.0->ipykernel->jupyter) (39.1.0)\n",
      "Requirement already satisfied: jedi>=0.10 in /opt/jaspy/lib/python3.7/site-packages (from ipython>=5.0.0->ipykernel->jupyter) (0.13.2)\n",
      "Requirement already satisfied: decorator in /opt/jaspy/lib/python3.7/site-packages (from ipython>=5.0.0->ipykernel->jupyter) (4.3.0)\n",
      "Requirement already satisfied: pickleshare in /opt/jaspy/lib/python3.7/site-packages (from ipython>=5.0.0->ipykernel->jupyter) (0.7.5)\n",
      "Requirement already satisfied: prompt_toolkit<2.1.0,>=2.0.0 in /opt/jaspy/lib/python3.7/site-packages (from ipython>=5.0.0->ipykernel->jupyter) (2.0.7)\n",
      "Requirement already satisfied: pygments in /opt/jaspy/lib/python3.7/site-packages (from ipython>=5.0.0->ipykernel->jupyter) (2.3.1)\n",
      "Requirement already satisfied: backcall in /opt/jaspy/lib/python3.7/site-packages (from ipython>=5.0.0->ipykernel->jupyter) (0.1.0)\n",
      "Requirement already satisfied: pexpect in /opt/jaspy/lib/python3.7/site-packages (from ipython>=5.0.0->ipykernel->jupyter) (4.6.0)\n",
      "Requirement already satisfied: parso>=0.3.0 in /opt/jaspy/lib/python3.7/site-packages (from jedi>=0.10->ipython>=5.0.0->ipykernel->jupyter) (0.3.1)\n",
      "Requirement already satisfied: six>=1.9.0 in /opt/jaspy/lib/python3.7/site-packages (from prompt_toolkit<2.1.0,>=2.0.0->ipython>=5.0.0->ipykernel->jupyter) (1.12.0)\n",
      "Requirement already satisfied: wcwidth in /opt/jaspy/lib/python3.7/site-packages (from prompt_toolkit<2.1.0,>=2.0.0->ipython>=5.0.0->ipykernel->jupyter) (0.1.7)\n",
      "Requirement already satisfied: ipython_genutils in /opt/jaspy/lib/python3.7/site-packages (from traitlets>=4.1.0->ipykernel->jupyter) (0.2.0)\n",
      "Collecting ipywidgets\n",
      "  Using cached ipywidgets-7.6.3-py2.py3-none-any.whl (121 kB)\n",
      "Collecting jupyterlab-widgets>=1.0.0\n",
      "  Using cached jupyterlab_widgets-1.0.0-py3-none-any.whl (243 kB)\n",
      "Collecting nbformat>=4.2.0\n",
      "  Using cached nbformat-5.1.3-py3-none-any.whl (178 kB)\n",
      "Requirement already satisfied: jupyter-core in /opt/jaspy/lib/python3.7/site-packages (from nbformat>=4.2.0->ipywidgets->jupyter) (4.7.0)\n",
      "Collecting jsonschema!=2.5.0,>=2.4\n",
      "  Using cached jsonschema-3.2.0-py2.py3-none-any.whl (56 kB)\n",
      "Requirement already satisfied: attrs>=17.4.0 in /opt/jaspy/lib/python3.7/site-packages (from jsonschema!=2.5.0,>=2.4->nbformat>=4.2.0->ipywidgets->jupyter) (18.2.0)\n",
      "Collecting pyrsistent>=0.14.0\n",
      "  Using cached pyrsistent-0.18.0-cp37-cp37m-manylinux1_x86_64.whl (119 kB)\n",
      "Collecting widgetsnbextension~=3.5.0\n",
      "  Using cached widgetsnbextension-3.5.1-py2.py3-none-any.whl (2.2 MB)\n",
      "Collecting notebook\n",
      "  Using cached notebook-6.4.0-py3-none-any.whl (9.5 MB)\n",
      "Requirement already satisfied: pyzmq>=17 in /opt/jaspy/lib/python3.7/site-packages (from notebook->jupyter) (17.1.2)\n",
      "Requirement already satisfied: jinja2 in /opt/jaspy/lib/python3.7/site-packages (from notebook->jupyter) (2.10)\n",
      "Requirement already satisfied: python-dateutil>=2.1 in /opt/jaspy/lib/python3.7/site-packages (from jupyter-client->ipykernel->jupyter) (2.7.5)\n",
      "Collecting Send2Trash>=1.5.0\n",
      "  Using cached Send2Trash-1.7.1-py3-none-any.whl (17 kB)\n",
      "Collecting terminado>=0.8.3\n",
      "  Using cached terminado-0.10.1-py3-none-any.whl (14 kB)\n",
      "Requirement already satisfied: ptyprocess in /opt/jaspy/lib/python3.7/site-packages (from terminado>=0.8.3->notebook->jupyter) (0.6.0)\n",
      "Collecting tornado>=4.2\n",
      "  Using cached tornado-6.1-cp37-cp37m-manylinux2010_x86_64.whl (428 kB)\n",
      "Collecting argon2-cffi\n",
      "  Using cached argon2_cffi-20.1.0-cp35-abi3-manylinux1_x86_64.whl (97 kB)\n",
      "Requirement already satisfied: cffi>=1.0.0 in /opt/jaspy/lib/python3.7/site-packages (from argon2-cffi->notebook->jupyter) (1.11.5)\n",
      "Requirement already satisfied: pycparser in /opt/jaspy/lib/python3.7/site-packages (from cffi>=1.0.0->argon2-cffi->notebook->jupyter) (2.19)\n",
      "Collecting importlib-metadata\n",
      "  Using cached importlib_metadata-4.6.1-py3-none-any.whl (17 kB)\n",
      "Collecting typing-extensions>=3.6.4\n",
      "  Using cached typing_extensions-3.10.0.0-py3-none-any.whl (26 kB)\n",
      "Collecting zipp>=0.5\n",
      "  Using cached zipp-3.5.0-py3-none-any.whl (5.7 kB)\n",
      "Requirement already satisfied: MarkupSafe>=0.23 in /opt/jaspy/lib/python3.7/site-packages (from jinja2->notebook->jupyter) (1.1.0)\n",
      "Collecting jupyter-console\n",
      "  Using cached jupyter_console-6.4.0-py3-none-any.whl (22 kB)\n",
      "Collecting nbconvert\n",
      "  Using cached nbconvert-6.1.0-py3-none-any.whl (551 kB)\n",
      "Collecting entrypoints>=0.2.2\n",
      "  Using cached entrypoints-0.3-py2.py3-none-any.whl (11 kB)\n",
      "Collecting mistune<2,>=0.8.1\n",
      "  Using cached mistune-0.8.4-py2.py3-none-any.whl (16 kB)\n",
      "Collecting nbclient<0.6.0,>=0.5.0\n",
      "  Using cached nbclient-0.5.3-py3-none-any.whl (82 kB)\n",
      "Collecting pandocfilters>=1.4.1\n",
      "  Using cached pandocfilters-1.4.3-py3-none-any.whl\n",
      "Collecting pygments\n",
      "  Using cached Pygments-2.9.0-py3-none-any.whl (1.0 MB)\n",
      "Collecting traitlets>=4.1.0\n",
      "  Using cached traitlets-5.0.5-py3-none-any.whl (100 kB)\n",
      "Collecting async-generator\n",
      "  Using cached async_generator-1.10-py3-none-any.whl (18 kB)\n",
      "Collecting bleach\n",
      "  Using cached bleach-3.3.0-py2.py3-none-any.whl (283 kB)\n",
      "Requirement already satisfied: packaging in /opt/jaspy/lib/python3.7/site-packages (from bleach->nbconvert->jupyter) (18.0)\n",
      "Collecting defusedxml\n",
      "  Using cached defusedxml-0.7.1-py2.py3-none-any.whl (25 kB)\n",
      "Collecting jupyterlab-pygments\n",
      "  Using cached jupyterlab_pygments-0.1.2-py2.py3-none-any.whl (4.6 kB)\n",
      "Collecting nest-asyncio\n",
      "  Using cached nest_asyncio-1.5.1-py3-none-any.whl (5.0 kB)\n",
      "Requirement already satisfied: pyparsing>=2.0.2 in /opt/jaspy/lib/python3.7/site-packages (from packaging->bleach->nbconvert->jupyter) (2.3.0)\n",
      "Collecting prometheus-client\n",
      "  Using cached prometheus_client-0.11.0-py2.py3-none-any.whl (56 kB)\n",
      "Collecting qtconsole\n",
      "  Downloading qtconsole-5.1.1-py3-none-any.whl (119 kB)\n",
      "Collecting qtpy\n",
      "  Using cached QtPy-1.9.0-py2.py3-none-any.whl (54 kB)\n",
      "Collecting testpath\n",
      "  Using cached testpath-0.5.0-py3-none-any.whl (84 kB)\n",
      "Collecting webencodings\n",
      "  Using cached webencodings-0.5.1-py2.py3-none-any.whl (11 kB)\n",
      "Installing collected packages: zipp, typing-extensions, traitlets, pyrsistent, importlib-metadata, tornado, jsonschema, webencodings, pygments, nest-asyncio, nbformat, async-generator, testpath, pandocfilters, nbclient, mistune, jupyterlab-pygments, entrypoints, defusedxml, bleach, terminado, Send2Trash, prometheus-client, nbconvert, argon2-cffi, notebook, widgetsnbextension, qtpy, jupyterlab-widgets, qtconsole, jupyter-console, ipywidgets, jupyter\n",
      "  Attempting uninstall: traitlets\n",
      "    Found existing installation: traitlets 4.3.2\n"
     ]
    },
    {
     "name": "stderr",
     "output_type": "stream",
     "text": [
      "    WARNING: Could not access 'pyvenv.cfg' despite a virtual environment being active. Assuming global site-packages is not accessible in this environment.\n"
     ]
    },
    {
     "name": "stdout",
     "output_type": "stream",
     "text": [
      "    Not uninstalling traitlets at /opt/jaspy/lib/python3.7/site-packages, outside environment /home/users/astephen/nb-venvs/ipy-venv\n",
      "    Can't uninstall 'traitlets'. No files were found to uninstall.\n",
      "  Attempting uninstall: tornado\n",
      "    Found existing installation: tornado 5.1.1\n"
     ]
    },
    {
     "name": "stderr",
     "output_type": "stream",
     "text": [
      "    WARNING: Could not access 'pyvenv.cfg' despite a virtual environment being active. Assuming global site-packages is not accessible in this environment.\n"
     ]
    },
    {
     "name": "stdout",
     "output_type": "stream",
     "text": [
      "    Not uninstalling tornado at /opt/jaspy/lib/python3.7/site-packages, outside environment /home/users/astephen/nb-venvs/ipy-venv\n",
      "    Can't uninstall 'tornado'. No files were found to uninstall.\n",
      "  Attempting uninstall: pygments\n",
      "    Found existing installation: Pygments 2.3.1\n"
     ]
    },
    {
     "name": "stderr",
     "output_type": "stream",
     "text": [
      "    WARNING: Could not access 'pyvenv.cfg' despite a virtual environment being active. Assuming global site-packages is not accessible in this environment.\n"
     ]
    },
    {
     "name": "stdout",
     "output_type": "stream",
     "text": [
      "    Not uninstalling pygments at /opt/jaspy/lib/python3.7/site-packages, outside environment /home/users/astephen/nb-venvs/ipy-venv\n",
      "    Can't uninstall 'Pygments'. No files were found to uninstall.\n",
      "Successfully installed Send2Trash-1.7.1 argon2-cffi-20.1.0 async-generator-1.10 bleach-3.3.0 defusedxml-0.7.1 entrypoints-0.3 importlib-metadata-4.6.1 ipywidgets-7.6.3 jsonschema-3.2.0 jupyter-1.0.0 jupyter-console-6.4.0 jupyterlab-pygments-0.1.2 jupyterlab-widgets-1.0.0 mistune-0.8.4 nbclient-0.5.3 nbconvert-6.1.0 nbformat-5.1.3 nest-asyncio-1.5.1 notebook-6.4.0 pandocfilters-1.4.3 prometheus-client-0.11.0 pygments-2.9.0 pyrsistent-0.18.0 qtconsole-5.1.1 qtpy-1.9.0 terminado-0.10.1 testpath-0.5.0 tornado-6.1 traitlets-5.0.5 typing-extensions-3.10.0.0 webencodings-0.5.1 widgetsnbextension-3.5.1 zipp-3.5.0\n"
     ]
    },
    {
     "name": "stderr",
     "output_type": "stream",
     "text": [
      "WARNING: You are using pip version 10.0.1; however, version 21.1.3 is available.\n",
      "You should consider upgrading via the '/opt/jaspy/bin/python -m pip install --upgrade pip' command.\n",
      "WARNING: pip is being invoked by an old script wrapper. This will fail in a future version of pip.\n",
      "Please see https://github.com/pypa/pip/issues/5599 for advice on fixing the underlying issue.\n",
      "To avoid this problem you can invoke Python with '-m pip' instead of running pip directly.\n"
     ]
    },
    {
     "name": "stdout",
     "output_type": "stream",
     "text": [
      "Collecting notebook\n",
      "  Using cached notebook-6.4.0-py3-none-any.whl (9.5 MB)\n",
      "Requirement already satisfied: jupyter-client>=5.3.4 in /opt/jaspy/lib/python3.7/site-packages (from notebook) (6.1.11)\n",
      "Requirement already satisfied: ipython-genutils in /opt/jaspy/lib/python3.7/site-packages (from notebook) (0.2.0)\n",
      "Requirement already satisfied: jupyter-core>=4.6.1 in /opt/jaspy/lib/python3.7/site-packages (from notebook) (4.7.0)\n",
      "Requirement already satisfied: pyzmq>=17 in /opt/jaspy/lib/python3.7/site-packages (from notebook) (17.1.2)\n",
      "Requirement already satisfied: traitlets>=4.2.1 in /opt/jaspy/lib/python3.7/site-packages (from notebook) (4.3.2)\n",
      "Requirement already satisfied: ipykernel in /opt/jaspy/lib/python3.7/site-packages (from notebook) (5.4.2)\n",
      "Requirement already satisfied: jinja2 in /opt/jaspy/lib/python3.7/site-packages (from notebook) (2.10)\n",
      "Requirement already satisfied: python-dateutil>=2.1 in /opt/jaspy/lib/python3.7/site-packages (from jupyter-client>=5.3.4->notebook) (2.7.5)\n",
      "Requirement already satisfied: six>=1.5 in /opt/jaspy/lib/python3.7/site-packages (from python-dateutil>=2.1->jupyter-client>=5.3.4->notebook) (1.12.0)\n",
      "Collecting Send2Trash>=1.5.0\n",
      "  Using cached Send2Trash-1.7.1-py3-none-any.whl (17 kB)\n",
      "Collecting terminado>=0.8.3\n",
      "  Using cached terminado-0.10.1-py3-none-any.whl (14 kB)\n",
      "Requirement already satisfied: ptyprocess in /opt/jaspy/lib/python3.7/site-packages (from terminado>=0.8.3->notebook) (0.6.0)\n",
      "Collecting tornado>=6.1\n",
      "  Using cached tornado-6.1-cp37-cp37m-manylinux2010_x86_64.whl (428 kB)\n",
      "Requirement already satisfied: decorator in /opt/jaspy/lib/python3.7/site-packages (from traitlets>=4.2.1->notebook) (4.3.0)\n",
      "Collecting argon2-cffi\n",
      "  Using cached argon2_cffi-20.1.0-cp35-abi3-manylinux1_x86_64.whl (97 kB)\n",
      "Requirement already satisfied: cffi>=1.0.0 in /opt/jaspy/lib/python3.7/site-packages (from argon2-cffi->notebook) (1.11.5)\n",
      "Requirement already satisfied: pycparser in /opt/jaspy/lib/python3.7/site-packages (from cffi>=1.0.0->argon2-cffi->notebook) (2.19)\n",
      "Requirement already satisfied: ipython>=5.0.0 in /opt/jaspy/lib/python3.7/site-packages (from ipykernel->notebook) (7.2.0)\n",
      "Requirement already satisfied: setuptools>=18.5 in /home/users/astephen/nb-venvs/ipy-venv/lib/python3.7/site-packages (from ipython>=5.0.0->ipykernel->notebook) (39.1.0)\n",
      "Requirement already satisfied: jedi>=0.10 in /opt/jaspy/lib/python3.7/site-packages (from ipython>=5.0.0->ipykernel->notebook) (0.13.2)\n",
      "Requirement already satisfied: pickleshare in /opt/jaspy/lib/python3.7/site-packages (from ipython>=5.0.0->ipykernel->notebook) (0.7.5)\n",
      "Requirement already satisfied: prompt_toolkit<2.1.0,>=2.0.0 in /opt/jaspy/lib/python3.7/site-packages (from ipython>=5.0.0->ipykernel->notebook) (2.0.7)\n",
      "Requirement already satisfied: pygments in /opt/jaspy/lib/python3.7/site-packages (from ipython>=5.0.0->ipykernel->notebook) (2.3.1)\n",
      "Requirement already satisfied: backcall in /opt/jaspy/lib/python3.7/site-packages (from ipython>=5.0.0->ipykernel->notebook) (0.1.0)\n",
      "Requirement already satisfied: pexpect in /opt/jaspy/lib/python3.7/site-packages (from ipython>=5.0.0->ipykernel->notebook) (4.6.0)\n",
      "Requirement already satisfied: parso>=0.3.0 in /opt/jaspy/lib/python3.7/site-packages (from jedi>=0.10->ipython>=5.0.0->ipykernel->notebook) (0.3.1)\n",
      "Requirement already satisfied: wcwidth in /opt/jaspy/lib/python3.7/site-packages (from prompt_toolkit<2.1.0,>=2.0.0->ipython>=5.0.0->ipykernel->notebook) (0.1.7)\n",
      "Requirement already satisfied: MarkupSafe>=0.23 in /opt/jaspy/lib/python3.7/site-packages (from jinja2->notebook) (1.1.0)\n",
      "Collecting nbconvert\n",
      "  Using cached nbconvert-6.1.0-py3-none-any.whl (551 kB)\n",
      "Collecting entrypoints>=0.2.2\n",
      "  Using cached entrypoints-0.3-py2.py3-none-any.whl (11 kB)\n",
      "Collecting mistune<2,>=0.8.1\n",
      "  Using cached mistune-0.8.4-py2.py3-none-any.whl (16 kB)\n",
      "Collecting nbclient<0.6.0,>=0.5.0\n",
      "  Using cached nbclient-0.5.3-py3-none-any.whl (82 kB)\n",
      "Collecting nbformat\n",
      "  Using cached nbformat-5.1.3-py3-none-any.whl (178 kB)\n",
      "Collecting jsonschema!=2.5.0,>=2.4\n",
      "  Using cached jsonschema-3.2.0-py2.py3-none-any.whl (56 kB)\n",
      "Requirement already satisfied: attrs>=17.4.0 in /opt/jaspy/lib/python3.7/site-packages (from jsonschema!=2.5.0,>=2.4->nbformat->notebook) (18.2.0)\n",
      "Collecting pandocfilters>=1.4.1\n",
      "  Using cached pandocfilters-1.4.3-py3-none-any.whl\n",
      "Collecting pygments\n",
      "  Using cached Pygments-2.9.0-py3-none-any.whl (1.0 MB)\n",
      "Collecting pyrsistent>=0.14.0\n",
      "  Using cached pyrsistent-0.18.0-cp37-cp37m-manylinux1_x86_64.whl (119 kB)\n",
      "Collecting traitlets>=4.2.1\n",
      "  Using cached traitlets-5.0.5-py3-none-any.whl (100 kB)\n",
      "Collecting async-generator\n",
      "  Using cached async_generator-1.10-py3-none-any.whl (18 kB)\n",
      "Collecting bleach\n",
      "  Using cached bleach-3.3.0-py2.py3-none-any.whl (283 kB)\n",
      "Requirement already satisfied: packaging in /opt/jaspy/lib/python3.7/site-packages (from bleach->nbconvert->notebook) (18.0)\n",
      "Collecting defusedxml\n",
      "  Using cached defusedxml-0.7.1-py2.py3-none-any.whl (25 kB)\n",
      "Collecting importlib-metadata\n",
      "  Using cached importlib_metadata-4.6.1-py3-none-any.whl (17 kB)\n",
      "Collecting typing-extensions>=3.6.4\n",
      "  Using cached typing_extensions-3.10.0.0-py3-none-any.whl (26 kB)\n",
      "Collecting zipp>=0.5\n",
      "  Using cached zipp-3.5.0-py3-none-any.whl (5.7 kB)\n",
      "Collecting jupyterlab-pygments\n",
      "  Using cached jupyterlab_pygments-0.1.2-py2.py3-none-any.whl (4.6 kB)\n",
      "Collecting nest-asyncio\n",
      "  Using cached nest_asyncio-1.5.1-py3-none-any.whl (5.0 kB)\n",
      "Requirement already satisfied: pyparsing>=2.0.2 in /opt/jaspy/lib/python3.7/site-packages (from packaging->bleach->nbconvert->notebook) (2.3.0)\n",
      "Collecting prometheus-client\n",
      "  Using cached prometheus_client-0.11.0-py2.py3-none-any.whl (56 kB)\n",
      "Collecting testpath\n",
      "  Using cached testpath-0.5.0-py3-none-any.whl (84 kB)\n",
      "Collecting webencodings\n",
      "  Using cached webencodings-0.5.1-py2.py3-none-any.whl (11 kB)\n",
      "Installing collected packages: zipp, typing-extensions, traitlets, pyrsistent, importlib-metadata, tornado, jsonschema, webencodings, pygments, nest-asyncio, nbformat, async-generator, testpath, pandocfilters, nbclient, mistune, jupyterlab-pygments, entrypoints, defusedxml, bleach, terminado, Send2Trash, prometheus-client, nbconvert, argon2-cffi, notebook\n",
      "  Attempting uninstall: traitlets\n",
      "    Found existing installation: traitlets 4.3.2\n"
     ]
    },
    {
     "name": "stderr",
     "output_type": "stream",
     "text": [
      "    WARNING: Could not access 'pyvenv.cfg' despite a virtual environment being active. Assuming global site-packages is not accessible in this environment.\n"
     ]
    },
    {
     "name": "stdout",
     "output_type": "stream",
     "text": [
      "    Not uninstalling traitlets at /opt/jaspy/lib/python3.7/site-packages, outside environment /home/users/astephen/nb-venvs/ipy-venv\n",
      "    Can't uninstall 'traitlets'. No files were found to uninstall.\n",
      "  Attempting uninstall: tornado\n",
      "    Found existing installation: tornado 5.1.1\n"
     ]
    },
    {
     "name": "stderr",
     "output_type": "stream",
     "text": [
      "    WARNING: Could not access 'pyvenv.cfg' despite a virtual environment being active. Assuming global site-packages is not accessible in this environment.\n"
     ]
    },
    {
     "name": "stdout",
     "output_type": "stream",
     "text": [
      "    Not uninstalling tornado at /opt/jaspy/lib/python3.7/site-packages, outside environment /home/users/astephen/nb-venvs/ipy-venv\n",
      "    Can't uninstall 'tornado'. No files were found to uninstall.\n",
      "  Attempting uninstall: pygments\n",
      "    Found existing installation: Pygments 2.3.1\n"
     ]
    },
    {
     "name": "stderr",
     "output_type": "stream",
     "text": [
      "    WARNING: Could not access 'pyvenv.cfg' despite a virtual environment being active. Assuming global site-packages is not accessible in this environment.\n"
     ]
    },
    {
     "name": "stdout",
     "output_type": "stream",
     "text": [
      "    Not uninstalling pygments at /opt/jaspy/lib/python3.7/site-packages, outside environment /home/users/astephen/nb-venvs/ipy-venv\n",
      "    Can't uninstall 'Pygments'. No files were found to uninstall.\n",
      "Successfully installed Send2Trash-1.7.1 argon2-cffi-20.1.0 async-generator-1.10 bleach-3.3.0 defusedxml-0.7.1 entrypoints-0.3 importlib-metadata-4.6.1 jsonschema-3.2.0 jupyterlab-pygments-0.1.2 mistune-0.8.4 nbclient-0.5.3 nbconvert-6.1.0 nbformat-5.1.3 nest-asyncio-1.5.1 notebook-6.4.0 pandocfilters-1.4.3 prometheus-client-0.11.0 pygments-2.9.0 pyrsistent-0.18.0 terminado-0.10.1 testpath-0.5.0 tornado-6.1 traitlets-5.0.5 typing-extensions-3.10.0.0 webencodings-0.5.1 zipp-3.5.0\n"
     ]
    },
    {
     "name": "stderr",
     "output_type": "stream",
     "text": [
      "WARNING: You are using pip version 10.0.1; however, version 21.1.3 is available.\n",
      "You should consider upgrading via the '/opt/jaspy/bin/python -m pip install --upgrade pip' command.\n",
      "WARNING: pip is being invoked by an old script wrapper. This will fail in a future version of pip.\n",
      "Please see https://github.com/pypa/pip/issues/5599 for advice on fixing the underlying issue.\n",
      "To avoid this problem you can invoke Python with '-m pip' instead of running pip directly.\n"
     ]
    },
    {
     "name": "stdout",
     "output_type": "stream",
     "text": [
      "Requirement already satisfied: pandas in /opt/jaspy/lib/python3.7/site-packages (0.23.4)\n",
      "Requirement already satisfied: python-dateutil>=2.5.0 in /opt/jaspy/lib/python3.7/site-packages (from pandas) (2.7.5)\n",
      "Requirement already satisfied: pytz>=2011k in /opt/jaspy/lib/python3.7/site-packages (from pandas) (2018.7)\n",
      "Requirement already satisfied: numpy>=1.9.0 in /opt/jaspy/lib/python3.7/site-packages (from pandas) (1.15.4)\n",
      "Requirement already satisfied: six>=1.5 in /opt/jaspy/lib/python3.7/site-packages (from python-dateutil>=2.5.0->pandas) (1.12.0)\n"
     ]
    },
    {
     "name": "stderr",
     "output_type": "stream",
     "text": [
      "WARNING: You are using pip version 10.0.1; however, version 21.1.3 is available.\n",
      "You should consider upgrading via the '/opt/jaspy/bin/python -m pip install --upgrade pip' command.\n",
      "WARNING: pip is being invoked by an old script wrapper. This will fail in a future version of pip.\n",
      "Please see https://github.com/pypa/pip/issues/5599 for advice on fixing the underlying issue.\n",
      "To avoid this problem you can invoke Python with '-m pip' instead of running pip directly.\n"
     ]
    },
    {
     "name": "stdout",
     "output_type": "stream",
     "text": [
      "Collecting tabulate\n",
      "  Using cached tabulate-0.8.9-py3-none-any.whl (25 kB)\n",
      "Installing collected packages: tabulate\n",
      "Successfully installed tabulate-0.8.9\n"
     ]
    },
    {
     "name": "stderr",
     "output_type": "stream",
     "text": [
      "WARNING: You are using pip version 10.0.1; however, version 21.1.3 is available.\n",
      "You should consider upgrading via the '/opt/jaspy/bin/python -m pip install --upgrade pip' command.\n"
     ]
    },
    {
     "name": "stdout",
     "output_type": "stream",
     "text": [
      "Installation complete!\n"
     ]
    }
   ],
   "source": [
    "import notebooks.mngmt.utils.venv_utils as venv_utils\n",
    "packages = open(\"requirements.txt\").read().strip().split()\n",
    "venv_utils.setup_venv(\"ipy-venv\", packages=packages)"
   ]
  },
  {
   "cell_type": "code",
   "execution_count": 12,
   "metadata": {},
   "outputs": [
    {
     "name": "stdout",
     "output_type": "stream",
     "text": [
      "╒════╤═════════════════════════════╤════════════╤═══════════════════════════════════════════════════════════════╕\n",
      "│    │ File                        │ Packages   │ Dataset                                                       │\n",
      "╞════╪═════════════════════════════╪════════════╪═══════════════════════════════════════════════════════════════╡\n",
      "│  0 │ cmip6-zarr-jasmin           │ pip        │                                                               │\n",
      "│    │                             │ intake     │                                                               │\n",
      "│    │                             │ virtualenv │                                                               │\n",
      "│    │                             │ intake_esm │                                                               │\n",
      "│    │                             │ fsspec     │                                                               │\n",
      "│    │                             │ xarray     │                                                               │\n",
      "├────┼─────────────────────────────┼────────────┼───────────────────────────────────────────────────────────────┤\n",
      "│  1 │ baci-data-processor         │ numpy      │ BACI: System State Vector (SSV)  land surface time series     │\n",
      "│    │                             │ pip        │ dataset for the European regional site, 2000-2015,  v1.0      │\n",
      "│    │                             │ pandas     │ https://catalogue.ceda.ac.uk/af13038e9caf499482a9bbb0b8fca2b8 │\n",
      "│    │                             │ virtualenv │                                                               │\n",
      "│    │                             │ sklearn    │                                                               │\n",
      "│    │                             │ netCDF4    │                                                               │\n",
      "│    │                             │ gdal,      │                                                               │\n",
      "│    │                             │ matplotlib │                                                               │\n",
      "│    │                             │ seaborn    │                                                               │\n",
      "├────┼─────────────────────────────┼────────────┼───────────────────────────────────────────────────────────────┤\n",
      "│  2 │ plot-esacci-sst             │ matplotlib │ ESA Sea Surface Temperature Climate Change Initiative (ESA    │\n",
      "│    │                             │ netCDF4    │ SST CCI): Analysis long term product version 1.1              │\n",
      "│    │                             │ cartopy    │ https://catalogue.ceda.ac.uk/c65ce27928f34ebd92224c451c2a8bed │\n",
      "├────┼─────────────────────────────┼────────────┼───────────────────────────────────────────────────────────────┤\n",
      "│  3 │ S5P_NO2_NRTI_plot           │ matplotlib │ Sentinel 5P: Nitrogen Dioxide (NO2) Total Column level 2      │\n",
      "│    │                             │            │ data                                                          │\n",
      "│    │                             │            │ https://catalogue.ceda.ac.uk/e34eaffcf6bb4f3c87fffe0814f5c9bf │\n",
      "├────┼─────────────────────────────┼────────────┼───────────────────────────────────────────────────────────────┤\n",
      "│  4 │ pyam-example                │ virtualenv │                                                               │\n",
      "│    │                             │ pip        │                                                               │\n",
      "│    │                             │ pyam       │                                                               │\n",
      "├────┼─────────────────────────────┼────────────┼───────────────────────────────────────────────────────────────┤\n",
      "│  5 │ cru-python-example          │ numpy      │ CRU TS4.02: Climatic Research Unit (CRU) Time-Series (TS)     │\n",
      "│    │                             │ netCDF4    │ version 4.02 of high-resolution gridded data of month-by-     │\n",
      "│    │                             │ matplotlib │ month variation in climate (Jan. 1901- Dec. 2017)             │\n",
      "│    │                             │ cartopy    │ https://catalogue.ceda.ac.uk/b2f81914257c4188b181a4d8b0a46bff │\n",
      "├────┼─────────────────────────────┼────────────┼───────────────────────────────────────────────────────────────┤\n",
      "│  6 │ add_conda_envs              │            │                                                               │\n",
      "├────┼─────────────────────────────┼────────────┼───────────────────────────────────────────────────────────────┤\n",
      "│  7 │ pygeode-virtualenv          │ virtualenv │                                                               │\n",
      "│    │                             │ pip        │                                                               │\n",
      "├────┼─────────────────────────────┼────────────┼───────────────────────────────────────────────────────────────┤\n",
      "│  8 │ read-and-plot-with-xarray   │ numpy      │                                                               │\n",
      "│    │                             │ matplotlib │                                                               │\n",
      "│    │                             │ pandas     │                                                               │\n",
      "│    │                             │ xarray     │                                                               │\n",
      "├────┼─────────────────────────────┼────────────┼───────────────────────────────────────────────────────────────┤\n",
      "│  9 │ rerunnable-virtualenv-maker │ virtualenv │                                                               │\n",
      "│    │                             │ pip        │                                                               │\n",
      "├────┼─────────────────────────────┼────────────┼───────────────────────────────────────────────────────────────┤\n",
      "│ 10 │ virtualenvs-on-jasmin       │ virtualenv │                                                               │\n",
      "│    │                             │ pip        │                                                               │\n",
      "│    │                             │ fixnc      │                                                               │\n",
      "├────┼─────────────────────────────┼────────────┼───────────────────────────────────────────────────────────────┤\n",
      "│ 11 │ notebook-tour-part-1        │            │                                                               │\n",
      "├────┼─────────────────────────────┼────────────┼───────────────────────────────────────────────────────────────┤\n",
      "│ 12 │ notebook-tour-part-2        │ math       │                                                               │\n",
      "│    │                             │ pandas     │                                                               │\n",
      "├────┼─────────────────────────────┼────────────┼───────────────────────────────────────────────────────────────┤\n",
      "│ 13 │ notebook-tour-part-3        │ matplotlib │                                                               │\n",
      "├────┼─────────────────────────────┼────────────┼───────────────────────────────────────────────────────────────┤\n",
      "│ 14 │ notebook-tour-part-4        │ matplotlib │ WCRP CMIP6: National Center for Atmospheric Research (NCAR)   │\n",
      "│    │                             │ xarray     │ CESM2 model output for the \"abrupt-4xCO2\" experiment          │\n",
      "│    │                             │ cartopy    │ https://catalogue.ceda.ac.uk/dd32b23f7e29424c8bc84f1f7b7678c3 │\n",
      "├────┼─────────────────────────────┼────────────┼───────────────────────────────────────────────────────────────┤\n",
      "│ 15 │ notebook-tour-part-5        │ pandas     │                                                               │\n",
      "├────┼─────────────────────────────┼────────────┼───────────────────────────────────────────────────────────────┤\n",
      "│ 16 │ notebook-tour-part-6        │ virtualenv │                                                               │\n",
      "│    │                             │ pip        │                                                               │\n",
      "│    │                             │ fixnc      │                                                               │\n",
      "├────┼─────────────────────────────┼────────────┼───────────────────────────────────────────────────────────────┤\n",
      "│ 17 │ notebook-tour-part-7        │            │                                                               │\n",
      "├────┼─────────────────────────────┼────────────┼───────────────────────────────────────────────────────────────┤\n",
      "│ 18 │ notebook-tour               │ pip        │ WCRP CMIP6: National Center for Atmospheric Research (NCAR)   │\n",
      "│    │                             │ fixnc      │ CESM2 model output for the \"abrupt-4xCO2\" experiment          │\n",
      "│    │                             │ pandas     │ https://catalogue.ceda.ac.uk/dd32b23f7e29424c8bc84f1f7b7678c3 │\n",
      "│    │                             │ virtualenv │                                                               │\n",
      "│    │                             │ math       │                                                               │\n",
      "│    │                             │ matplotlib │                                                               │\n",
      "│    │                             │ xarray     │                                                               │\n",
      "│    │                             │ cartopy    │                                                               │\n",
      "╘════╧═════════════════════════════╧════════════╧═══════════════════════════════════════════════════════════════╛\n"
     ]
    },
    {
     "data": {
      "application/vnd.jupyter.widget-view+json": {
       "model_id": "a0b8e35f5f9547d48ff672738857fa8e",
       "version_major": 2,
       "version_minor": 0
      },
      "text/plain": [
       "VBox(children=(HBox(children=(Button(description='click here', style=ButtonStyle()), Text(value=''))), Output(…"
      ]
     },
     "metadata": {},
     "output_type": "display_data"
    }
   ],
   "source": [
    "import ipywidgets as widgets\n",
    "import simplejson as json\n",
    "from notebooks.mngmt.utils.index_utils import *\n",
    "\n",
    "text_content = widgets.Text()\n",
    "out = widgets.Output(layout={'overflow':'scroll hidden', 'width':'2000px', 'display':'flex'})\n",
    "index_dict = {}\n",
    "\n",
    "with open('index.json', 'r') as reader:\n",
    "    index_dict = json.load(reader)\n",
    "\n",
    "with out:\n",
    "    print_index(index_dict, display_format='text')\n",
    "\n",
    "\n",
    "@out.capture(clear_output=True)\n",
    "def search(event):\n",
    "    search_index(text_content.value, index_dict, display_format='html')\n",
    "    \n",
    "        \n",
    "button = widgets.Button(description='click here')\n",
    "button.on_click(search)\n",
    "\n",
    "widgets.VBox([widgets.HBox([button, text_content]), out])\n"
   ]
  },
  {
   "cell_type": "code",
   "execution_count": 15,
   "metadata": {},
   "outputs": [
    {
     "data": {
      "text/html": [
       "<table border=\"1\" class=\"dataframe\">\n",
       "  <thead>\n",
       "    <tr style=\"text-align: right;\">\n",
       "      <th></th>\n",
       "      <th>File</th>\n",
       "      <th>Packages</th>\n",
       "      <th>Dataset</th>\n",
       "    </tr>\n",
       "  </thead>\n",
       "  <tbody>\n",
       "  </tbody>\n",
       "</table>"
      ],
      "text/plain": [
       "<IPython.core.display.HTML object>"
      ]
     },
     "metadata": {},
     "output_type": "display_data"
    }
   ],
   "source": []
  },
  {
   "cell_type": "code",
   "execution_count": 18,
   "metadata": {},
   "outputs": [
    {
     "name": "stdout",
     "output_type": "stream",
     "text": [
      "╒════════╤════════════╤═══════════╕\n",
      "│ File   │ Packages   │ Dataset   │\n",
      "╞════════╪════════════╪═══════════╡\n",
      "╘════════╧════════════╧═══════════╛\n"
     ]
    }
   ],
   "source": [
    "search_index(\"sentinel\", index_dict, display_format='text')"
   ]
  },
  {
   "cell_type": "code",
   "execution_count": 20,
   "metadata": {},
   "outputs": [
    {
     "name": "stdout",
     "output_type": "stream",
     "text": [
      "╒════╤═══════════════════╤════════════╤═══════════════════════════════════════════════════════════════╕\n",
      "│    │ File              │ Packages   │ Dataset                                                       │\n",
      "╞════╪═══════════════════╪════════════╪═══════════════════════════════════════════════════════════════╡\n",
      "│  0 │ S5P_NO2_NRTI_plot │ matplotlib │ Sentinel 5P: Nitrogen Dioxide (NO2) Total Column level 2      │\n",
      "│    │                   │            │ data                                                          │\n",
      "│    │                   │            │ https://catalogue.ceda.ac.uk/e34eaffcf6bb4f3c87fffe0814f5c9bf │\n",
      "╘════╧═══════════════════╧════════════╧═══════════════════════════════════════════════════════════════╛\n"
     ]
    }
   ],
   "source": [
    "search_index(\"Sentinel\", index_dict, display_format='text')"
   ]
  },
  {
   "cell_type": "code",
   "execution_count": 21,
   "metadata": {},
   "outputs": [
    {
     "data": {
      "text/html": [
       "<table border=\"1\" class=\"dataframe\">\n",
       "  <thead>\n",
       "    <tr style=\"text-align: right;\">\n",
       "      <th></th>\n",
       "      <th>File</th>\n",
       "      <th>Packages</th>\n",
       "      <th>Dataset</th>\n",
       "    </tr>\n",
       "  </thead>\n",
       "  <tbody>\n",
       "  </tbody>\n",
       "</table>"
      ],
      "text/plain": [
       "<IPython.core.display.HTML object>"
      ]
     },
     "metadata": {},
     "output_type": "display_data"
    }
   ],
   "source": [
    "search_index(\"sentinel\", index_dict, display_format='html')"
   ]
  },
  {
   "cell_type": "code",
   "execution_count": 22,
   "metadata": {},
   "outputs": [
    {
     "data": {
      "text/html": [
       "<table border=\"1\" class=\"dataframe\">\n",
       "  <thead>\n",
       "    <tr style=\"text-align: right;\">\n",
       "      <th></th>\n",
       "      <th>File</th>\n",
       "      <th>Packages</th>\n",
       "      <th>Dataset</th>\n",
       "    </tr>\n",
       "  </thead>\n",
       "  <tbody>\n",
       "    <tr>\n",
       "      <th>0</th>\n",
       "      <td>S5P_NO2_NRTI_plot</td>\n",
       "      <td>matplotlib</td>\n",
       "      <td><a href=\"https://catalogue.ceda.ac.uk/e34eaffc...</td>\n",
       "    </tr>\n",
       "  </tbody>\n",
       "</table>"
      ],
      "text/plain": [
       "<IPython.core.display.HTML object>"
      ]
     },
     "metadata": {},
     "output_type": "display_data"
    }
   ],
   "source": [
    "search_index(\"Sentinel\", index_dict, display_format='html')"
   ]
  },
  {
   "cell_type": "code",
   "execution_count": null,
   "metadata": {},
   "outputs": [],
   "source": []
  }
 ],
 "metadata": {
  "kernelspec": {
   "display_name": "Python 3 + Jaspy",
   "language": "python",
   "name": "jaspy"
  },
  "language_info": {
   "codemirror_mode": {
    "name": "ipython",
    "version": 3
   },
   "file_extension": ".py",
   "mimetype": "text/x-python",
   "name": "python",
   "nbconvert_exporter": "python",
   "pygments_lexer": "ipython3",
   "version": "3.7.1"
  },
  "metadata": {
   "interpreter": {
    "hash": "340fec0e47dcb2ae869aabccff0dd18c3cb5e36d16bd598b50b05021c0eefb98"
   }
  }
 },
 "nbformat": 4,
 "nbformat_minor": 4
}
