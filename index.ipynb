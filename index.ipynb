{
 "cells": [
  {
   "cell_type": "code",
   "execution_count": 10,
   "metadata": {},
   "outputs": [
    {
     "name": "stdout",
     "output_type": "stream",
     "text": [
      "File                           Packages                       Dataset ID                          Dataset Title            \n",
      "----------------------------------------------------------------------------------------------------------------------------------------------------------------------------------------------------------------------------------------------------------\n",
      "baci-data-processor            numpy                          af13038e9caf499482a9bbb0b8fca2b8    BACI: System State Vector (SSV)  land surface time series dataset for the European regional site, 2000-2015,  v1.0\n",
      "                               pip                                                                                         \n",
      "                               pandas                                                                                      \n",
      "                               virtualenv                                                                                  \n",
      "                               sklearn                                                                                     \n",
      "                               netCDF4                                                                                     \n",
      "                               gdal,                                                                                       \n",
      "                               matplotlib                                                                                  \n",
      "                               seaborn                                                                                     \n",
      "----------------------------------------------------------------------------------------------------------------------------------------------------------------------------------------------------------------------------------------------------------\n",
      "cru-python-example             numpy                          b2f81914257c4188b181a4d8b0a46bff    CRU TS4.02: Climatic Research Unit (CRU) Time-Series (TS) version 4.02 of high-resolution gridded data of month-by-month variation in climate (Jan. 1901- Dec. 2017)\n",
      "                               netCDF4                                                                                     \n",
      "                               matplotlib                                                                                  \n",
      "                               cartopy                                                                                     \n",
      "----------------------------------------------------------------------------------------------------------------------------------------------------------------------------------------------------------------------------------------------------------\n",
      "read-and-plot-with-xarray      numpy                                                                                       \n",
      "                               matplotlib                                                                                  \n",
      "                               pandas                                                                                      \n",
      "                               xarray                                                                                      \n"
     ]
    },
    {
     "data": {
      "application/vnd.jupyter.widget-view+json": {
       "model_id": "6c658a44c771406ebc84929ae626c823",
       "version_major": 2,
       "version_minor": 0
      },
      "text/plain": [
       "VBox(children=(HBox(children=(Button(description='click here', style=ButtonStyle()), Text(value=''))), Output(…"
      ]
     },
     "metadata": {},
     "output_type": "display_data"
    }
   ],
   "source": [
    "import ipywidgets as widgets\n",
    "import simplejson as json\n",
    "from notebooks.mngmt.utils import index-utils\n",
    "\n",
    "text_content = widgets.Text()\n",
    "out = widgets.Output()\n",
    "index_dict = {}\n",
    "\n",
    "with open('index.json', 'r') as reader:\n",
    "    index_dict = json.load(reader)\n",
    "\n",
    "with out:\n",
    "    print_index(index_dict)\n",
    "\n",
    "\n",
    "@out.capture(clear_output=True)\n",
    "def search():\n",
    "    search_index(text_content.value, index_dict)\n",
    "    \n",
    "        \n",
    "button = widgets.Button(description='click here')\n",
    "button.on_click(search)\n",
    "\n",
    "widgets.VBox([widgets.HBox([button, text_content]), out])\n"
   ]
  },
  {
   "cell_type": "code",
   "execution_count": 1,
   "metadata": {},
   "outputs": [
    {
     "name": "stderr",
     "output_type": "stream",
     "text": [
      "WARNING: pip is being invoked by an old script wrapper. This will fail in a future version of pip.\n",
      "Please see https://github.com/pypa/pip/issues/5599 for advice on fixing the underlying issue.\n",
      "To avoid this problem you can invoke Python with '-m pip' instead of running pip directly.\n"
     ]
    },
    {
     "name": "stdout",
     "output_type": "stream",
     "text": [
      "Requirement already satisfied: ipywidgets in /home/users/jhaigh0/nb-venvs/venv-notebook/lib/python3.7/site-packages (7.6.3)\n",
      "Requirement already satisfied: traitlets>=4.3.1 in /opt/jaspy/lib/python3.7/site-packages (from ipywidgets) (4.3.2)\n",
      "Requirement already satisfied: ipykernel>=4.5.1 in /opt/jaspy/lib/python3.7/site-packages (from ipywidgets) (5.4.2)\n",
      "Requirement already satisfied: ipython>=4.0.0 in /opt/jaspy/lib/python3.7/site-packages (from ipywidgets) (7.2.0)\n",
      "Requirement already satisfied: widgetsnbextension~=3.5.0 in /home/users/jhaigh0/nb-venvs/venv-notebook/lib/python3.7/site-packages (from ipywidgets) (3.5.1)\n",
      "Requirement already satisfied: jupyterlab-widgets>=1.0.0 in /home/users/jhaigh0/nb-venvs/venv-notebook/lib/python3.7/site-packages (from ipywidgets) (1.0.0)\n",
      "Requirement already satisfied: nbformat>=4.2.0 in /home/users/jhaigh0/nb-venvs/venv-notebook/lib/python3.7/site-packages (from ipywidgets) (5.1.3)\n",
      "Requirement already satisfied: tornado>=4.2 in /home/users/jhaigh0/nb-venvs/venv-notebook/lib/python3.7/site-packages (from ipykernel>=4.5.1->ipywidgets) (6.1)\n",
      "Requirement already satisfied: jupyter-client in /opt/jaspy/lib/python3.7/site-packages (from ipykernel>=4.5.1->ipywidgets) (6.1.11)\n",
      "Requirement already satisfied: setuptools>=18.5 in /home/users/jhaigh0/nb-venvs/venv-notebook/lib/python3.7/site-packages (from ipython>=4.0.0->ipywidgets) (39.1.0)\n",
      "Requirement already satisfied: jedi>=0.10 in /opt/jaspy/lib/python3.7/site-packages (from ipython>=4.0.0->ipywidgets) (0.13.2)\n",
      "Requirement already satisfied: decorator in /opt/jaspy/lib/python3.7/site-packages (from ipython>=4.0.0->ipywidgets) (4.3.0)\n",
      "Requirement already satisfied: pickleshare in /opt/jaspy/lib/python3.7/site-packages (from ipython>=4.0.0->ipywidgets) (0.7.5)\n",
      "Requirement already satisfied: prompt_toolkit<2.1.0,>=2.0.0 in /opt/jaspy/lib/python3.7/site-packages (from ipython>=4.0.0->ipywidgets) (2.0.7)\n",
      "Requirement already satisfied: pygments in /home/users/jhaigh0/nb-venvs/venv-notebook/lib/python3.7/site-packages (from ipython>=4.0.0->ipywidgets) (2.9.0)\n",
      "Requirement already satisfied: backcall in /opt/jaspy/lib/python3.7/site-packages (from ipython>=4.0.0->ipywidgets) (0.1.0)\n",
      "Requirement already satisfied: pexpect in /opt/jaspy/lib/python3.7/site-packages (from ipython>=4.0.0->ipywidgets) (4.6.0)\n",
      "Requirement already satisfied: parso>=0.3.0 in /opt/jaspy/lib/python3.7/site-packages (from jedi>=0.10->ipython>=4.0.0->ipywidgets) (0.3.1)\n",
      "Requirement already satisfied: ipython-genutils in /opt/jaspy/lib/python3.7/site-packages (from nbformat>=4.2.0->ipywidgets) (0.2.0)\n",
      "Requirement already satisfied: jupyter-core in /opt/jaspy/lib/python3.7/site-packages (from nbformat>=4.2.0->ipywidgets) (4.7.0)\n",
      "Requirement already satisfied: jsonschema!=2.5.0,>=2.4 in /home/users/jhaigh0/nb-venvs/venv-notebook/lib/python3.7/site-packages (from nbformat>=4.2.0->ipywidgets) (3.2.0)\n",
      "Requirement already satisfied: six>=1.11.0 in /opt/jaspy/lib/python3.7/site-packages (from jsonschema!=2.5.0,>=2.4->nbformat>=4.2.0->ipywidgets) (1.12.0)\n",
      "Requirement already satisfied: pyrsistent>=0.14.0 in /home/users/jhaigh0/nb-venvs/venv-notebook/lib/python3.7/site-packages (from jsonschema!=2.5.0,>=2.4->nbformat>=4.2.0->ipywidgets) (0.17.3)\n",
      "Requirement already satisfied: importlib-metadata in /home/users/jhaigh0/nb-venvs/venv-notebook/lib/python3.7/site-packages (from jsonschema!=2.5.0,>=2.4->nbformat>=4.2.0->ipywidgets) (4.3.0)\n",
      "Requirement already satisfied: attrs>=17.4.0 in /opt/jaspy/lib/python3.7/site-packages (from jsonschema!=2.5.0,>=2.4->nbformat>=4.2.0->ipywidgets) (18.2.0)\n",
      "Requirement already satisfied: wcwidth in /opt/jaspy/lib/python3.7/site-packages (from prompt_toolkit<2.1.0,>=2.0.0->ipython>=4.0.0->ipywidgets) (0.1.7)\n",
      "Requirement already satisfied: notebook>=4.4.1 in /home/users/jhaigh0/nb-venvs/venv-notebook/lib/python3.7/site-packages (from widgetsnbextension~=3.5.0->ipywidgets) (6.4.0)\n",
      "Requirement already satisfied: argon2-cffi in /home/users/jhaigh0/nb-venvs/venv-notebook/lib/python3.7/site-packages (from notebook>=4.4.1->widgetsnbextension~=3.5.0->ipywidgets) (20.1.0)\n",
      "Requirement already satisfied: pyzmq>=17 in /opt/jaspy/lib/python3.7/site-packages (from notebook>=4.4.1->widgetsnbextension~=3.5.0->ipywidgets) (17.1.2)\n",
      "Requirement already satisfied: jinja2 in /opt/jaspy/lib/python3.7/site-packages (from notebook>=4.4.1->widgetsnbextension~=3.5.0->ipywidgets) (2.10)\n",
      "Requirement already satisfied: Send2Trash>=1.5.0 in /home/users/jhaigh0/nb-venvs/venv-notebook/lib/python3.7/site-packages (from notebook>=4.4.1->widgetsnbextension~=3.5.0->ipywidgets) (1.5.0)\n",
      "Requirement already satisfied: terminado>=0.8.3 in /home/users/jhaigh0/nb-venvs/venv-notebook/lib/python3.7/site-packages (from notebook>=4.4.1->widgetsnbextension~=3.5.0->ipywidgets) (0.10.0)\n",
      "Requirement already satisfied: prometheus-client in /home/users/jhaigh0/nb-venvs/venv-notebook/lib/python3.7/site-packages (from notebook>=4.4.1->widgetsnbextension~=3.5.0->ipywidgets) (0.10.1)\n",
      "Requirement already satisfied: nbconvert in /home/users/jhaigh0/nb-venvs/venv-notebook/lib/python3.7/site-packages (from notebook>=4.4.1->widgetsnbextension~=3.5.0->ipywidgets) (6.0.7)\n",
      "Requirement already satisfied: python-dateutil>=2.1 in /opt/jaspy/lib/python3.7/site-packages (from jupyter-client->ipykernel>=4.5.1->ipywidgets) (2.7.5)\n",
      "Requirement already satisfied: ptyprocess in /opt/jaspy/lib/python3.7/site-packages (from terminado>=0.8.3->notebook>=4.4.1->widgetsnbextension~=3.5.0->ipywidgets) (0.6.0)\n",
      "Requirement already satisfied: cffi>=1.0.0 in /opt/jaspy/lib/python3.7/site-packages (from argon2-cffi->notebook>=4.4.1->widgetsnbextension~=3.5.0->ipywidgets) (1.11.5)\n",
      "Requirement already satisfied: pycparser in /opt/jaspy/lib/python3.7/site-packages (from cffi>=1.0.0->argon2-cffi->notebook>=4.4.1->widgetsnbextension~=3.5.0->ipywidgets) (2.19)\n",
      "Requirement already satisfied: typing-extensions>=3.6.4 in /home/users/jhaigh0/nb-venvs/venv-notebook/lib/python3.7/site-packages (from importlib-metadata->jsonschema!=2.5.0,>=2.4->nbformat>=4.2.0->ipywidgets) (3.10.0.0)\n",
      "Requirement already satisfied: zipp>=0.5 in /home/users/jhaigh0/nb-venvs/venv-notebook/lib/python3.7/site-packages (from importlib-metadata->jsonschema!=2.5.0,>=2.4->nbformat>=4.2.0->ipywidgets) (3.4.1)\n",
      "Requirement already satisfied: MarkupSafe>=0.23 in /opt/jaspy/lib/python3.7/site-packages (from jinja2->notebook>=4.4.1->widgetsnbextension~=3.5.0->ipywidgets) (1.1.0)\n",
      "Requirement already satisfied: mistune<2,>=0.8.1 in /home/users/jhaigh0/.local/lib/python3.7/site-packages (from nbconvert->notebook>=4.4.1->widgetsnbextension~=3.5.0->ipywidgets) (0.8.4)\n",
      "Requirement already satisfied: nbclient<0.6.0,>=0.5.0 in /home/users/jhaigh0/nb-venvs/venv-notebook/lib/python3.7/site-packages (from nbconvert->notebook>=4.4.1->widgetsnbextension~=3.5.0->ipywidgets) (0.5.3)\n",
      "Requirement already satisfied: pandocfilters>=1.4.1 in /home/users/jhaigh0/nb-venvs/venv-notebook/lib/python3.7/site-packages (from nbconvert->notebook>=4.4.1->widgetsnbextension~=3.5.0->ipywidgets) (1.4.3)\n",
      "Requirement already satisfied: jupyterlab-pygments in /home/users/jhaigh0/nb-venvs/venv-notebook/lib/python3.7/site-packages (from nbconvert->notebook>=4.4.1->widgetsnbextension~=3.5.0->ipywidgets) (0.1.2)\n",
      "Requirement already satisfied: entrypoints>=0.2.2 in /home/users/jhaigh0/nb-venvs/venv-notebook/lib/python3.7/site-packages (from nbconvert->notebook>=4.4.1->widgetsnbextension~=3.5.0->ipywidgets) (0.3)\n",
      "Requirement already satisfied: bleach in /home/users/jhaigh0/.local/lib/python3.7/site-packages (from nbconvert->notebook>=4.4.1->widgetsnbextension~=3.5.0->ipywidgets) (3.2.1)\n",
      "Requirement already satisfied: testpath in /home/users/jhaigh0/nb-venvs/venv-notebook/lib/python3.7/site-packages (from nbconvert->notebook>=4.4.1->widgetsnbextension~=3.5.0->ipywidgets) (0.5.0)\n",
      "Requirement already satisfied: defusedxml in /home/users/jhaigh0/nb-venvs/venv-notebook/lib/python3.7/site-packages (from nbconvert->notebook>=4.4.1->widgetsnbextension~=3.5.0->ipywidgets) (0.7.1)\n",
      "Requirement already satisfied: nest-asyncio in /home/users/jhaigh0/nb-venvs/venv-notebook/lib/python3.7/site-packages (from nbclient<0.6.0,>=0.5.0->nbconvert->notebook>=4.4.1->widgetsnbextension~=3.5.0->ipywidgets) (1.5.1)\n",
      "Requirement already satisfied: async-generator in /home/users/jhaigh0/nb-venvs/venv-notebook/lib/python3.7/site-packages (from nbclient<0.6.0,>=0.5.0->nbconvert->notebook>=4.4.1->widgetsnbextension~=3.5.0->ipywidgets) (1.10)\n",
      "Requirement already satisfied: webencodings in /home/users/jhaigh0/.local/lib/python3.7/site-packages (from bleach->nbconvert->notebook>=4.4.1->widgetsnbextension~=3.5.0->ipywidgets) (0.5.1)\n",
      "Requirement already satisfied: packaging in /opt/jaspy/lib/python3.7/site-packages (from bleach->nbconvert->notebook>=4.4.1->widgetsnbextension~=3.5.0->ipywidgets) (18.0)\n",
      "Requirement already satisfied: pyparsing>=2.0.2 in /opt/jaspy/lib/python3.7/site-packages (from packaging->bleach->nbconvert->notebook>=4.4.1->widgetsnbextension~=3.5.0->ipywidgets) (2.3.0)\n"
     ]
    },
    {
     "name": "stderr",
     "output_type": "stream",
     "text": [
      "WARNING: You are using pip version 10.0.1; however, version 21.1.2 is available.\n",
      "You should consider upgrading via the '/opt/jaspy/bin/python -m pip install --upgrade pip' command.\n"
     ]
    },
    {
     "data": {
      "text/plain": [
       "0"
      ]
     },
     "execution_count": 1,
     "metadata": {},
     "output_type": "execute_result"
    }
   ],
   "source": [
    "import virtualenv\n",
    "import pip\n",
    "import os\n",
    "\n",
    "venvs_dir = os.path.join(os.path.expanduser(\"~\"), \"nb-venvs\")\n",
    "\n",
    "if not os.path.isdir(venvs_dir):\n",
    "    os.makedirs(venvs_dir)\n",
    "    \n",
    "venv_dir = os.path.join(venvs_dir, 'venv-notebook')\n",
    "\n",
    "if not os.path.isdir(venv_dir):\n",
    "    print(f'[INFO] Creating: virtual env at: {venv_dir}')\n",
    "    virtualenv.create_environment(venv_dir)\n",
    "    \n",
    "activate_file = os.path.join(venv_dir, \"bin\", \"activate_this.py\")\n",
    "exec(open(activate_file).read(), dict(__file__=activate_file))\n",
    "\n",
    "pip.main([\"install\", \"--prefix\", venv_dir, \"ipywidgets\"])"
   ]
  },
  {
   "cell_type": "code",
   "execution_count": null,
   "metadata": {},
   "outputs": [],
   "source": []
  }
 ],
 "metadata": {
  "kernelspec": {
   "display_name": "Python 3 + Jaspy",
   "language": "python",
   "name": "jaspy"
  },
  "language_info": {
   "codemirror_mode": {
    "name": "ipython",
    "version": 3
   },
   "file_extension": ".py",
   "mimetype": "text/x-python",
   "name": "python",
   "nbconvert_exporter": "python",
   "pygments_lexer": "ipython3",
   "version": "3.7.1"
  },
  "metadata": {
   "interpreter": {
    "hash": "340fec0e47dcb2ae869aabccff0dd18c3cb5e36d16bd598b50b05021c0eefb98"
   }
  }
 },
 "nbformat": 4,
 "nbformat_minor": 4
}