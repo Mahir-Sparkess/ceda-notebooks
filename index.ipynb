{
 "cells": [
  {
   "cell_type": "code",
   "execution_count": 1,
   "metadata": {},
   "outputs": [
    {
     "data": {
      "application/vnd.jupyter.widget-view+json": {
       "model_id": "26fcac3b0a2c4e1eab7d6d034909ad29",
       "version_major": 2,
       "version_minor": 0
      },
      "text/plain": [
       "VBox(children=(HBox(children=(Button(description='click here', style=ButtonStyle()), Text(value=''))), Output(…"
      ]
     },
     "metadata": {},
     "output_type": "display_data"
    }
   ],
   "source": [
    "import ipywidgets as widgets\n",
    "import simplejson as json\n",
    "from notebooks.mngmt.utils.index_utils import *\n",
    "\n",
    "text_content = widgets.Text()\n",
    "out = widgets.Output(layout={'overflow':'scroll hidden', 'width':'2000px', 'diplay':'flex'})\n",
    "index_dict = {}\n",
    "\n",
    "with open('index.json', 'r') as reader:\n",
    "    index_dict = json.load(reader)\n",
    "\n",
    "with out:\n",
    "    print_index(index_dict)\n",
    "\n",
    "\n",
    "@out.capture(clear_output=True)\n",
    "def search(event):\n",
    "    search_index(text_content.value, index_dict)\n",
    "    \n",
    "        \n",
    "button = widgets.Button(description='click here')\n",
    "button.on_click(search)\n",
    "\n",
    "widgets.VBox([widgets.HBox([button, text_content]), out])\n"
   ]
  },
  {
   "cell_type": "code",
   "execution_count": null,
   "metadata": {},
   "outputs": [],
   "source": []
  },
  {
   "cell_type": "code",
   "execution_count": null,
   "metadata": {},
   "outputs": [],
   "source": []
  }
 ],
 "metadata": {
  "kernelspec": {
   "display_name": "Python 3",
   "language": "python",
   "name": "python3"
  },
  "language_info": {
   "codemirror_mode": {
    "name": "ipython",
    "version": 3
   },
   "file_extension": ".py",
   "mimetype": "text/x-python",
   "name": "python",
   "nbconvert_exporter": "python",
   "pygments_lexer": "ipython3",
   "version": "3.8.5"
  },
  "metadata": {
   "interpreter": {
    "hash": "340fec0e47dcb2ae869aabccff0dd18c3cb5e36d16bd598b50b05021c0eefb98"
   }
  }
 },
 "nbformat": 4,
 "nbformat_minor": 4
}
